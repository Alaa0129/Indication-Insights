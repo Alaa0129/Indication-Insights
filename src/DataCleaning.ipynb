{
 "cells": [
  {
   "cell_type": "markdown",
   "metadata": {},
   "source": [
    "## Data cleaning of pharmacy sales indications"
   ]
  },
  {
   "cell_type": "code",
   "execution_count": 2,
   "metadata": {},
   "outputs": [],
   "source": [
    "import os\n",
    "import glob\n",
    "\n",
    "# Data handling and manipulation library\n",
    "import pandas as pd\n",
    "import numpy as np\n",
    "import seaborn as sns\n",
    "import matplotlib.pyplot as plt"
   ]
  },
  {
   "cell_type": "code",
   "execution_count": 3,
   "metadata": {},
   "outputs": [],
   "source": [
    "# Set print options\n",
    "pd.set_option('display.max_columns', None)\n",
    "\n",
    "### some stuff for making pretty plots\n",
    "from matplotlib import rcParams\n",
    "from cycler import cycler\n",
    "## Set plotting style and print options\n",
    "sns.set_theme()\n",
    "sns.set_style(\"whitegrid\")\n",
    "sns.set_context(\"paper\") #Possible are paper, notebook, talk and poster\n",
    "# Set figure format\n",
    "wide_format, square_format = False, True\n",
    "if wide_format:\n",
    "    d = {'lines.linewidth': 2, 'axes.titlesize': 18, 'axes.labelsize': 18, 'xtick.labelsize': 12, 'ytick.labelsize': 12,\\\n",
    "     'legend.fontsize': 15, 'font.family': 'serif', 'figure.figsize': (9,6)}\n",
    "if square_format:\n",
    "    d = {'lines.linewidth': 2, 'axes.titlesize': 16, 'axes.labelsize': 14, 'xtick.labelsize': 10, 'ytick.labelsize': 10,\\\n",
    "     'legend.fontsize': 12, 'font.family': 'serif', 'figure.figsize': (6,6)}\n",
    "    \n",
    "d_colors = {'axes.prop_cycle': cycler(color = ['teal', 'navy', 'coral', 'plum', 'purple', 'olivedrab',\\\n",
    "         'black', 'red', 'cyan', 'yellow', 'khaki','lightblue'])}\n",
    "rcParams.update(d)\n",
    "rcParams.update(d_colors)"
   ]
  },
  {
   "cell_type": "markdown",
   "metadata": {},
   "source": [
    "Get an overview of all the files in the indication insights folder"
   ]
  },
  {
   "cell_type": "code",
   "execution_count": 12,
   "metadata": {},
   "outputs": [
    {
     "data": {
      "text/plain": [
       "['diagnosis_groups.csv',\n",
       " 'diagnosis_groups_sks diagnoser.csv',\n",
       " 'diagnosis_groups_spa.csv',\n",
       " 'dosing.csv',\n",
       " 'hospital_account.csv',\n",
       " 'hospital_region.csv',\n",
       " 'salgs_data_indication_insight_hospital.csv',\n",
       " 'salgs_data_indication_insight_pharmacy.csv',\n",
       " 'substancesofinterest.csv',\n",
       " 'tabel_sks_diagnose_country.csv',\n",
       " 'tabel_sks_diagnose_hospital.csv',\n",
       " 'tabel_sks_diagnose_region.csv']"
      ]
     },
     "execution_count": 12,
     "metadata": {},
     "output_type": "execute_result"
    }
   ],
   "source": [
    "# Set the path to the data directory\n",
    "data_dir = \"../../../Indication Insights Data-20240905\"\n",
    "\n",
    "# List all files in the data directory\n",
    "files = glob.glob(os.path.join(data_dir, '*.csv'))\n",
    "file_names = os.listdir(data_dir)\n",
    "file_names = [file.lower() for file in file_names if file.endswith('.csv')]\n",
    "\n",
    "# Load all data files into a dictionary\n",
    "df_dict = {}\n",
    "for file in files:\n",
    "    df = pd.read_csv(file, sep=';',encoding='iso-8859-1')\n",
    "    df_dict[os.path.basename(file).lower().split('.csv')[0]] = df\n",
    "\n",
    "keys = list(df_dict.keys())\n",
    "file_names"
   ]
  },
  {
   "cell_type": "markdown",
   "metadata": {},
   "source": [
    "Clean 'salgs_data_indication_insight_pharmacy'"
   ]
  },
  {
   "cell_type": "code",
   "execution_count": null,
   "metadata": {},
   "outputs": [],
   "source": [
    "choose_file = 'salgs_data_indication_insight_pharmacy'\n",
    "sales_ins = df_dict[choose_file]"
   ]
  }
 ],
 "metadata": {
  "kernelspec": {
   "display_name": "Python 3",
   "language": "python",
   "name": "python3"
  },
  "language_info": {
   "codemirror_mode": {
    "name": "ipython",
    "version": 3
   },
   "file_extension": ".py",
   "mimetype": "text/x-python",
   "name": "python",
   "nbconvert_exporter": "python",
   "pygments_lexer": "ipython3",
   "version": "3.12.5"
  }
 },
 "nbformat": 4,
 "nbformat_minor": 2
}
