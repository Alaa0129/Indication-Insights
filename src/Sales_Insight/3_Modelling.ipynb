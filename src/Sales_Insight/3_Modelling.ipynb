{
 "cells": [
  {
   "cell_type": "code",
   "execution_count": 3,
   "metadata": {},
   "outputs": [
    {
     "name": "stdout",
     "output_type": "stream",
     "text": [
      "6752\n",
      "5811\n",
      "df:\n",
      "Total rows of L04AC05: 2126\n",
      "Total rows of L04AC05 in hospitals: 356\n",
      "Total rows of L04AC05 in pharmacies: 1770\n",
      "\n",
      "oversampled df:\n",
      "Total rows of L04AC05: 5386\n",
      "Total rows of L04AC05 in hospitals: 3616\n",
      "Total rows of L04AC05 in pharmacies: 1770\n",
      "\n",
      "resampled df:\n",
      "Total rows of L04AC05: 8264\n",
      "Total rows of L04AC05 in hospitals: 1407\n",
      "Total rows of L04AC05 in pharmacies: 6857\n",
      "\n",
      "oversampled resampled df:\n",
      "Total rows of L04AC05: 13981\n",
      "Total rows of L04AC05 in hospitals: 9405\n",
      "Total rows of L04AC05 in pharmacies: 4576\n",
      "df:\n",
      "Total rows of L04AB02: 1245\n",
      "Total rows of L04AB02 in hospitals: 228\n",
      "Total rows of L04AB02 in pharmacies: 1017\n",
      "\n",
      "oversampled df:\n",
      "Total rows of L04AB02: 3022\n",
      "Total rows of L04AB02 in hospitals: 2005\n",
      "Total rows of L04AB02 in pharmacies: 1017\n",
      "\n",
      "resampled df:\n",
      "Total rows of L04AB02: 4882\n",
      "Total rows of L04AB02 in hospitals: 887\n",
      "Total rows of L04AB02 in pharmacies: 3995\n",
      "\n",
      "oversampled resampled df:\n",
      "Total rows of L04AB02: 7798\n",
      "Total rows of L04AB02 in hospitals: 5204\n",
      "Total rows of L04AB02 in pharmacies: 2594\n",
      "df:\n",
      "Total rows of L04AB05: 3505\n",
      "Total rows of L04AB05 in hospitals: 481\n",
      "Total rows of L04AB05 in pharmacies: 3024\n",
      "\n",
      "oversampled df:\n",
      "Total rows of L04AB05: 4155\n",
      "Total rows of L04AB05 in hospitals: 1131\n",
      "Total rows of L04AB05 in pharmacies: 3024\n",
      "\n",
      "resampled df:\n",
      "Total rows of L04AB05: 13730\n",
      "Total rows of L04AB05 in hospitals: 1860\n",
      "Total rows of L04AB05 in pharmacies: 11870\n",
      "\n",
      "oversampled resampled df:\n",
      "Total rows of L04AB05: 10784\n",
      "Total rows of L04AB05 in hospitals: 2948\n",
      "Total rows of L04AB05 in pharmacies: 7836\n"
     ]
    }
   ],
   "source": [
    "# SalesInsightsPreprocessing\n",
    "from SamplingScript import *\n",
    "\n",
    "# libraries to visualize\n",
    "import matplotlib.pyplot as plt\n",
    "\n",
    "# Generates a confusion matrix\n",
    "from sklearn.linear_model import LinearRegression, Ridge, Lasso\n",
    "\n",
    "## some stuff for making pretty plots\n",
    "from matplotlib import rcParams\n",
    "from cycler import cycler\n",
    "\n",
    "## Set plotting style and print options\n",
    "sns.set_theme()\n",
    "sns.set_style(\"whitegrid\")\n",
    "sns.set_context(\"paper\") #Possible are paper, notebook, talk and poster\n",
    "# Set figure format\n",
    "wide_format, square_format = False, True\n",
    "if wide_format:\n",
    "    d = {'lines.linewidth': 2, 'axes.titlesize': 18, 'axes.labelsize': 18, 'xtick.labelsize': 12, 'ytick.labelsize': 12,\\\n",
    "     'legend.fontsize': 15, 'font.family': 'serif', 'figure.figsize': (9,6)}\n",
    "if square_format:\n",
    "    d = {'lines.linewidth': 2, 'axes.titlesize': 16, 'axes.labelsize': 14, 'xtick.labelsize': 10, 'ytick.labelsize': 10,\\\n",
    "     'legend.fontsize': 12, 'font.family': 'serif', 'figure.figsize': (6,6)}\n",
    "    \n",
    "d_colors = {'axes.prop_cycle': cycler(color = ['teal', 'navy', 'coral', 'plum', 'purple', 'olivedrab',\\\n",
    "         'black', 'red', 'cyan', 'yellow', 'khaki','lightblue'])}\n",
    "rcParams.update(d)\n",
    "rcParams.update(d_colors)"
   ]
  },
  {
   "cell_type": "code",
   "execution_count": 4,
   "metadata": {},
   "outputs": [
    {
     "name": "stdout",
     "output_type": "stream",
     "text": [
      "Relative error: inf %\n",
      "R squared: 0.345\n",
      "Relative error: inf %\n",
      "R squared: 0.344\n",
      "Relative error: inf %\n",
      "R squared: 0.350\n",
      "Relative error: inf %\n",
      "R squared: 0.342\n"
     ]
    },
    {
     "name": "stderr",
     "output_type": "stream",
     "text": [
      "C:\\Users\\Josef\\AppData\\Local\\Temp\\ipykernel_13336\\241906230.py:13: RuntimeWarning: divide by zero encountered in divide\n",
      "  rel_error = np.mean(np.abs(y_test - y_pred) / y_test)\n",
      "C:\\Users\\Josef\\AppData\\Local\\Temp\\ipykernel_13336\\241906230.py:13: RuntimeWarning: divide by zero encountered in divide\n",
      "  rel_error = np.mean(np.abs(y_test - y_pred) / y_test)\n",
      "C:\\Users\\Josef\\AppData\\Local\\Temp\\ipykernel_13336\\241906230.py:13: RuntimeWarning: divide by zero encountered in divide\n",
      "  rel_error = np.mean(np.abs(y_test - y_pred) / y_test)\n",
      "C:\\Users\\Josef\\AppData\\Local\\Temp\\ipykernel_13336\\241906230.py:13: RuntimeWarning: divide by zero encountered in divide\n",
      "  rel_error = np.mean(np.abs(y_test - y_pred) / y_test)\n"
     ]
    }
   ],
   "source": [
    "# instantiate regressor\n",
    "reg = LinearRegression()\n",
    "\n",
    "training_data = [(X_train, y_train), (X_over, y_over), (X_res, y_res), (X_res_over, y_res_over)]\n",
    "\n",
    "for X, y in training_data:\n",
    "    # fit and predict\n",
    "    reg.fit(X, y)\n",
    "    y_pred = reg.predict(X_test)\n",
    "    \n",
    "    # calculate the R^2 score\n",
    "    rsquared = reg.score(X_test, y_test)\n",
    "    rel_error = np.mean(np.abs(y_test - y_pred) / y_test)\n",
    "    \n",
    "    print(f'Relative error: {rel_error * 100 :.3f} %')\n",
    "    print(f'R squared: {rsquared:.3f}')"
   ]
  }
 ],
 "metadata": {
  "kernelspec": {
   "display_name": "Python 3",
   "language": "python",
   "name": "python3"
  },
  "language_info": {
   "codemirror_mode": {
    "name": "ipython",
    "version": 3
   },
   "file_extension": ".py",
   "mimetype": "text/x-python",
   "name": "python",
   "nbconvert_exporter": "python",
   "pygments_lexer": "ipython3",
   "version": "3.12.5"
  }
 },
 "nbformat": 4,
 "nbformat_minor": 2
}
