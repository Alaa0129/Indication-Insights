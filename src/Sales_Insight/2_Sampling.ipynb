{
 "cells": [
  {
   "cell_type": "code",
   "execution_count": 65,
   "metadata": {},
   "outputs": [],
   "source": [
    "# Sampling libraries\n",
    "from imblearn.over_sampling import RandomOverSampler\n",
    "from imblearn.under_sampling import RandomUnderSampler\n",
    "from imblearn.under_sampling import TomekLinks\n",
    "from imblearn.over_sampling import SMOTE\n",
    "from imblearn.combine import SMOTETomek\n",
    "from imblearn.pipeline import Pipeline\n",
    "from collections import Counter\n",
    "from sklearn.model_selection import train_test_split\n",
    "\n",
    "\n",
    "# SalesInsightsPreprocessing\n",
    "from PreprocessingScript import *\n",
    "\n",
    "# Set print options\n",
    "pd.set_option('display.max_columns', None)\n",
    "\n",
    "df = mergedHospitalPharmacyDfYearAndSortedWithTypes\n",
    "\n",
    "# Separate the rows where Type is 0 and 1\n",
    "df_type_0 = df[df['Type'] == 0]\n",
    "df_type_1 = df[df['Type'] == 1]\n"
   ]
  },
  {
   "cell_type": "markdown",
   "metadata": {},
   "source": [
    "#### Define features/independent variables 'X', and specify our target/dependent variable, y"
   ]
  },
  {
   "cell_type": "code",
   "execution_count": 66,
   "metadata": {},
   "outputs": [],
   "source": [
    "# Below, we make a list of features/independent variables 'X', and specify our target/dependent variable, y\n",
    "# The model will guess/predict the 'y' feature (our target) based on the list of features, 'X'\n",
    "# Running the cell will not produce any output. This is because we are defining X and y, which we will be using in the next section to train our model\n",
    "\n",
    "X = df.drop(['Volume', 'Account Description', 'Size', 'Year Month (after 2000) in Datetime', 'Value'], axis=1).values\n",
    "y = df['Volume'].values\n",
    "\n",
    "X_type_0 = df_type_0.drop(['Volume', 'Account Description', 'Size', 'Year Month (after 2000) in Datetime', 'Value'], axis=1).values\n",
    "y_type_0 = df_type_0['Volume'].values\n"
   ]
  },
  {
   "cell_type": "code",
   "execution_count": 67,
   "metadata": {},
   "outputs": [],
   "source": [
    "# split data into test and train - 80/20\n",
    "X_train, X_test, y_train, y_test = train_test_split(X, y, test_size=0.2, random_state=42)\n",
    "X_train_type_0, X_test_type_0, y_train_type_0, y_test_type_0 = train_test_split(X_type_0, y_type_0, test_size=0.2, random_state=42)"
   ]
  },
  {
   "cell_type": "markdown",
   "metadata": {},
   "source": [
    "#### Oversample hospital values"
   ]
  },
  {
   "cell_type": "code",
   "execution_count": 68,
   "metadata": {},
   "outputs": [],
   "source": [
    "# oversampling for df_type_0\n",
    "ros = RandomOverSampler(random_state=42)\n",
    "X_resampled, y_resampled = ros.fit_resample(X_train_type_0, y_train_type_0)"
   ]
  },
  {
   "cell_type": "code",
   "execution_count": 69,
   "metadata": {},
   "outputs": [
    {
     "name": "stdout",
     "output_type": "stream",
     "text": [
      "6752\n",
      "5811\n"
     ]
    }
   ],
   "source": [
    "# make the resampled data into a dataframe\n",
    "hospital_df_resampled = pd.DataFrame(X_resampled, columns=df.drop(['Volume', 'Account Description', 'Size', 'Year Month (after 2000) in Datetime', 'Value'], axis=1).columns)\n",
    "\n",
    "print(len(hospital_df_resampled))\n",
    "print(len(df_type_1))\n",
    "\n",
    "oversampled_df = pd.concat([hospital_df_resampled, df_type_1], ignore_index=True)"
   ]
  },
  {
   "cell_type": "markdown",
   "metadata": {},
   "source": [
    "#### Add more random values to df"
   ]
  },
  {
   "cell_type": "markdown",
   "metadata": {},
   "source": [
    "#### Show all dataframes after sampling etc"
   ]
  },
  {
   "cell_type": "code",
   "execution_count": 83,
   "metadata": {},
   "outputs": [
    {
     "name": "stdout",
     "output_type": "stream",
     "text": [
      "og df:\n",
      "Total rows of L04AC05: 2126\n",
      "Total rows of L04AC05 in hospitals: 356\n",
      "Total rows of L04AC05 in pharmacies: 1770\n",
      "\n",
      "oversampled df:\n",
      "Total rows of L04AC05: 5386\n",
      "Total rows of L04AC05 in hospitals: 3616\n",
      "Total rows of L04AC05 in pharmacies: 1770\n"
     ]
    }
   ],
   "source": [
    "# L04AC05 = 0\n",
    "# Hospital = 0\n",
    "# Pharmacy = 1\n",
    "\n",
    "df_C05 = df[df['WHO ATC 5 Code'] == 0]\n",
    "df_over_C05 = oversampled_df[oversampled_df['WHO ATC 5 Code'] == 0]\n",
    "\n",
    "df_over_c05_hospitals = df_over_C05[df_over_C05['Type'] == 0]\n",
    "df_over_c05_pharmacies = df_over_C05[df_over_C05['Type'] == 1]\n",
    "df_c05_hospitals = df_C05[df_C05['Type'] == 0]\n",
    "df_c05_pharmacies = df_C05[df_C05['Type'] == 1]\n",
    "\n",
    "\n",
    "print('og df:')\n",
    "print('Total rows of L04AC05:', len(df_C05))\n",
    "print('Total rows of L04AC05 in hospitals:', len(df_c05_hospitals))\n",
    "print('Total rows of L04AC05 in pharmacies:', len(df_c05_pharmacies))\n",
    "print()\n",
    "print('oversampled df:')\n",
    "print('Total rows of L04AC05:', len(df_over_C05))\n",
    "print('Total rows of L04AC05 in hospitals:', len(df_over_c05_hospitals))\n",
    "print('Total rows of L04AC05 in pharmacies:', len(df_over_c05_pharmacies))\n"
   ]
  },
  {
   "cell_type": "code",
   "execution_count": 84,
   "metadata": {},
   "outputs": [
    {
     "name": "stdout",
     "output_type": "stream",
     "text": [
      "og df:\n",
      "Total rows of L04AB02: 1245\n",
      "Total rows of L04AB02 in hospitals: 228\n",
      "Total rows of L04AB02 in pharmacies: 1017\n",
      "\n",
      "oversampled df:\n",
      "Total rows of L04AB02: 3022\n",
      "Total rows of L04AB02 in hospitals: 2005\n",
      "Total rows of L04AB02 in pharmacies: 1017\n"
     ]
    }
   ],
   "source": [
    "# L04AB02 = 1\n",
    "# Hospital = 0\n",
    "# Pharmacy = 1\n",
    "\n",
    "df_B02 = df[df['WHO ATC 5 Code'] == 1]\n",
    "df_over_B02 = oversampled_df[oversampled_df['WHO ATC 5 Code'] == 1]\n",
    "\n",
    "df_over_b02_hospitals = df_over_B02[df_over_B02['Type'] == 0]\n",
    "df_over_b02_pharmacies = df_over_B02[df_over_B02['Type'] == 1]\n",
    "df_b02_hospitals = df_B02[df_B02['Type'] == 0]\n",
    "df_b02_pharmacies = df_B02[df_B02['Type'] == 1]\n",
    "\n",
    "print('og df:')\n",
    "print('Total rows of L04AB02:', len(df_B02))\n",
    "print('Total rows of L04AB02 in hospitals:', len(df_b02_hospitals))\n",
    "print('Total rows of L04AB02 in pharmacies:', len(df_b02_pharmacies))\n",
    "print()\n",
    "print('oversampled df:')\n",
    "print('Total rows of L04AB02:', len(df_over_B02))\n",
    "print('Total rows of L04AB02 in hospitals:', len(df_over_b02_hospitals))\n",
    "print('Total rows of L04AB02 in pharmacies:', len(df_over_b02_pharmacies))"
   ]
  },
  {
   "cell_type": "code",
   "execution_count": 85,
   "metadata": {},
   "outputs": [
    {
     "name": "stdout",
     "output_type": "stream",
     "text": [
      "og df:\n",
      "Total rows of L04AB05: 3505\n",
      "Total rows of L04AB05 in hospitals: 481\n",
      "Total rows of L04AB05 in pharmacies: 3024\n",
      "\n",
      "oversampled df:\n",
      "Total rows of L04AB05: 4155\n",
      "Total rows of L04AB05 in hospitals: 1131\n",
      "Total rows of L04AB05 in pharmacies: 3024\n"
     ]
    }
   ],
   "source": [
    "# L04AB05 = 2\n",
    "# Hospital = 0\n",
    "# Pharmacy = 1\n",
    "\n",
    "df_B05 = df[df['WHO ATC 5 Code'] == 2]\n",
    "df_over_B05 = oversampled_df[oversampled_df['WHO ATC 5 Code'] == 2]\n",
    "\n",
    "df_over_b05_hospitals = df_over_B05[df_over_B05['Type'] == 0]\n",
    "df_over_b05_pharmacies = df_over_B05[df_over_B05['Type'] == 1]\n",
    "df_b05_hospitals = df_B05[df_B05['Type'] == 0]\n",
    "df_b05_pharmacies = df_B05[df_B05['Type'] == 1]\n",
    "\n",
    "print('og df:')\n",
    "print('Total rows of L04AB05:', len(df_B05))\n",
    "print('Total rows of L04AB05 in hospitals:', len(df_b05_hospitals))\n",
    "print('Total rows of L04AB05 in pharmacies:', len(df_b05_pharmacies))\n",
    "print()\n",
    "print('oversampled df:')\n",
    "print('Total rows of L04AB05:', len(df_over_B05))\n",
    "print('Total rows of L04AB05 in hospitals:', len(df_over_b05_hospitals))\n",
    "print('Total rows of L04AB05 in pharmacies:', len(df_over_b05_pharmacies))"
   ]
  }
 ],
 "metadata": {
  "kernelspec": {
   "display_name": "Python 3",
   "language": "python",
   "name": "python3"
  },
  "language_info": {
   "codemirror_mode": {
    "name": "ipython",
    "version": 3
   },
   "file_extension": ".py",
   "mimetype": "text/x-python",
   "name": "python",
   "nbconvert_exporter": "python",
   "pygments_lexer": "ipython3",
   "version": "3.12.5"
  }
 },
 "nbformat": 4,
 "nbformat_minor": 2
}
