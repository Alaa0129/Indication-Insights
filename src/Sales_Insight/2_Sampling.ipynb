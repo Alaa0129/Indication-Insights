{
 "cells": [
  {
   "cell_type": "code",
   "execution_count": 9,
   "metadata": {},
   "outputs": [],
   "source": [
    "# Sampling libraries\n",
    "from sklearn.model_selection import train_test_split\n",
    "from sklearn.utils import resample\n",
    "\n",
    "# SalesInsightsPreprocessing\n",
    "from PreprocessingScript import *\n",
    "\n",
    "# Set print options\n",
    "pd.set_option('display.max_columns', None)\n",
    "\n",
    "df = mergedHospitalPharmacySickHouseDfYearAndSortedWithTypes\n"
   ]
  },
  {
   "cell_type": "markdown",
   "metadata": {},
   "source": [
    "#### Define features/independent variables 'X', and specify our target/dependent variable, y"
   ]
  },
  {
   "cell_type": "code",
   "execution_count": 10,
   "metadata": {},
   "outputs": [],
   "source": [
    "X = df.values\n",
    "y = df['Volume'].values"
   ]
  },
  {
   "cell_type": "code",
   "execution_count": 11,
   "metadata": {},
   "outputs": [],
   "source": [
    "# split data into test and train - 80/20\n",
    "X_split_train, X_split_test, y_train, y_test = train_test_split(X, y, test_size=0.2, random_state=42)\n",
    "\n",
    "# Convert numpy arrays to DataFrames\n",
    "X_split_train_df = pd.DataFrame(X_split_train, columns=df.columns)\n",
    "X_split_test_df = pd.DataFrame(X_split_test, columns=df.columns)\n",
    "\n",
    "X_train = X_split_train_df.drop(['Volume', 'Account Description', 'Size', 'Year Month (after 2000) in Datetime', 'Value'], axis=1).values\n",
    "X_test = X_split_test_df.drop(['Volume', 'Account Description', 'Size', 'Year Month (after 2000) in Datetime', 'Value'], axis=1).values"
   ]
  },
  {
   "cell_type": "markdown",
   "metadata": {},
   "source": [
    "#### Add more random values to df"
   ]
  },
  {
   "cell_type": "code",
   "execution_count": 12,
   "metadata": {},
   "outputs": [],
   "source": [
    "from sklearn.utils import resample\n",
    "import pandas as pd\n",
    "\n",
    "# Convert y_train to Series if it's not already\n",
    "if not isinstance(y_train, pd.Series):\n",
    "    y_train = pd.Series(y_train)\n",
    "\n",
    "def create_resampled_dataframe(X_train, y_train, n_samples, df):\n",
    "    # Resample the data to get additional samples\n",
    "    X_resampled, y_resampled = resample(X_train, y_train, replace=True, n_samples=n_samples, random_state=42)\n",
    "\n",
    "    # Convert the resampled arrays to DataFrames and Series\n",
    "    X_resampled_df = pd.DataFrame(X_resampled, columns=df.columns)\n",
    "    y_resampled_df = pd.Series(y_resampled)\n",
    "\n",
    "    # Concatenate the original data with the additional samples\n",
    "    X_train_extended = pd.concat([pd.DataFrame(X_train, columns=df.columns), X_resampled_df], axis=0)\n",
    "    y_train_extended = pd.concat([y_train, y_resampled_df], axis=0)\n",
    "\n",
    "    # Create a DataFrame with the extended data\n",
    "    df_extended = pd.DataFrame(X_train_extended, columns=df.columns)\n",
    "    return df_extended\n",
    "\n",
    "# Create DataFrames with 20000, 50000, and 100000 additional rows\n",
    "df_resampled_20000 = create_resampled_dataframe(X_split_train, y_train, 20000, df)\n",
    "df_resampled_50000 = create_resampled_dataframe(X_split_train, y_train, 50000, df)\n",
    "df_resampled_100000 = create_resampled_dataframe(X_split_train, y_train, 100000, df)"
   ]
  },
  {
   "cell_type": "markdown",
   "metadata": {},
   "source": [
    "#### Show all dataframes after sampling etc"
   ]
  },
  {
   "cell_type": "code",
   "execution_count": 13,
   "metadata": {},
   "outputs": [
    {
     "name": "stdout",
     "output_type": "stream",
     "text": [
      "df:\n",
      "Total rows of L04AC05: 2126\n",
      "Total rows of L04AC05 in hospitals: 356\n",
      "Total rows of L04AC05 in pharmacies: 1270\n",
      "\n",
      "resampled 20k df:\n",
      "Total rows of L04AC05: 7934\n",
      "Total rows of L04AC05 in hospitals: 1385\n",
      "Total rows of L04AC05 in pharmacies: 4729\n",
      "\n",
      "resampled 50k df:\n",
      "Total rows of L04AC05: 17202\n",
      "Total rows of L04AC05 in hospitals: 2969\n",
      "Total rows of L04AC05 in pharmacies: 10250\n",
      "\n",
      "resampled 100k df:\n",
      "Total rows of L04AC05: 32768\n",
      "Total rows of L04AC05 in hospitals: 5626\n",
      "Total rows of L04AC05 in pharmacies: 19397\n"
     ]
    }
   ],
   "source": [
    "# L04AC05 = 0\n",
    "# Hospital = 0\n",
    "# Pharmacy = 1\n",
    "\n",
    "df_C05 = df[df['WHO ATC 5 Code'] == 0]\n",
    "df_20000_C05 = df_resampled_20000[df_resampled_20000['WHO ATC 5 Code'] == 0]\n",
    "df_50000_C05 = df_resampled_50000[df_resampled_50000['WHO ATC 5 Code'] == 0]\n",
    "df_100000_C05 = df_resampled_100000[df_resampled_100000['WHO ATC 5 Code'] == 0]\n",
    "\n",
    "df_c05_hospitals = df_C05[df_C05['Type'] == 0]\n",
    "df_c05_pharmacies = df_C05[df_C05['Type'] == 1]\n",
    "\n",
    "df_20000_c05_hospitals = df_20000_C05[df_20000_C05['Type'] == 0]\n",
    "df_20000_c05_pharmacies = df_20000_C05[df_20000_C05['Type'] == 1]\n",
    "\n",
    "df_50000_c05_hospitals = df_50000_C05[df_50000_C05['Type'] == 0]\n",
    "df_50000_c05_pharmacies = df_50000_C05[df_50000_C05['Type'] == 1]\n",
    "\n",
    "df_100000_res_c05_hospitals = df_100000_C05[df_100000_C05['Type'] == 0]\n",
    "df_100000_res_c05_pharmacies = df_100000_C05[df_100000_C05['Type'] == 1]\n",
    "\n",
    "print('df:')\n",
    "print('Total rows of L04AC05:', len(df_C05))\n",
    "print('Total rows of L04AC05 in hospitals:', len(df_c05_hospitals))\n",
    "print('Total rows of L04AC05 in pharmacies:', len(df_c05_pharmacies))\n",
    "print()\n",
    "print('resampled 20k df:')\n",
    "print('Total rows of L04AC05:', len(df_20000_C05))\n",
    "print('Total rows of L04AC05 in hospitals:', len(df_20000_c05_hospitals))\n",
    "print('Total rows of L04AC05 in pharmacies:', len(df_20000_c05_pharmacies))\n",
    "print()\n",
    "print('resampled 50k df:')\n",
    "print('Total rows of L04AC05:', len(df_50000_C05))\n",
    "print('Total rows of L04AC05 in hospitals:', len(df_50000_c05_hospitals))\n",
    "print('Total rows of L04AC05 in pharmacies:', len(df_50000_c05_pharmacies))\n",
    "print()\n",
    "print('resampled 100k df:')\n",
    "print('Total rows of L04AC05:', len(df_100000_C05))\n",
    "print('Total rows of L04AC05 in hospitals:', len(df_100000_res_c05_hospitals))\n",
    "print('Total rows of L04AC05 in pharmacies:', len(df_100000_res_c05_pharmacies))"
   ]
  },
  {
   "cell_type": "code",
   "execution_count": 14,
   "metadata": {},
   "outputs": [
    {
     "name": "stdout",
     "output_type": "stream",
     "text": [
      "df:\n",
      "Total rows of L04AB02: 1245\n",
      "Total rows of L04AB02 in hospitals: 228\n",
      "Total rows of L04AB02 in pharmacies: 694\n",
      "\n",
      "resampled 20k df:\n",
      "Total rows of L04AB02: 4527\n",
      "Total rows of L04AB02 in hospitals: 831\n",
      "Total rows of L04AB02 in pharmacies: 2526\n",
      "\n",
      "resampled 50k df:\n",
      "Total rows of L04AB02: 9885\n",
      "Total rows of L04AB02 in hospitals: 1797\n",
      "Total rows of L04AB02 in pharmacies: 5535\n",
      "\n",
      "resampled 100k df:\n",
      "Total rows of L04AB02: 18842\n",
      "Total rows of L04AB02 in hospitals: 3448\n",
      "Total rows of L04AB02 in pharmacies: 10513\n"
     ]
    }
   ],
   "source": [
    "# L04AB02 = 1\n",
    "# Hospital = 0\n",
    "# Pharmacy = 1\n",
    "\n",
    "df_B02 = df[df['WHO ATC 5 Code'] == 1]\n",
    "df_20000_B02 = df_resampled_20000[df_resampled_20000['WHO ATC 5 Code'] == 1]\n",
    "df_50000_B02 = df_resampled_50000[df_resampled_50000['WHO ATC 5 Code'] == 1]\n",
    "df_100000_B02 = df_resampled_100000[df_resampled_100000['WHO ATC 5 Code'] == 1]\n",
    "\n",
    "df_b02_hospitals = df_B02[df_B02['Type'] == 0]\n",
    "df_b02_pharmacies = df_B02[df_B02['Type'] == 1]\n",
    "\n",
    "df_20000_b02_hospitals = df_20000_B02[df_20000_B02['Type'] == 0]\n",
    "df_20000_b02_pharmacies = df_20000_B02[df_20000_B02['Type'] == 1]\n",
    "\n",
    "df_50000_b02_hospitals = df_50000_B02[df_50000_B02['Type'] == 0]\n",
    "df_50000_b02_pharmacies = df_50000_B02[df_50000_B02['Type'] == 1]\n",
    "\n",
    "df_100000_b02_hospitals = df_100000_B02[df_100000_B02['Type'] == 0]\n",
    "df_100000_b02_pharmacies = df_100000_B02[df_100000_B02['Type'] == 1]\n",
    "\n",
    "print('df:')\n",
    "print('Total rows of L04AB02:', len(df_B02))\n",
    "print('Total rows of L04AB02 in hospitals:', len(df_b02_hospitals))\n",
    "print('Total rows of L04AB02 in pharmacies:', len(df_b02_pharmacies))\n",
    "print()\n",
    "print('resampled 20k df:')\n",
    "print('Total rows of L04AB02:', len(df_20000_B02))\n",
    "print('Total rows of L04AB02 in hospitals:', len(df_20000_b02_hospitals))\n",
    "print('Total rows of L04AB02 in pharmacies:', len(df_20000_b02_pharmacies))\n",
    "print()\n",
    "print('resampled 50k df:')\n",
    "print('Total rows of L04AB02:', len(df_50000_B02))\n",
    "print('Total rows of L04AB02 in hospitals:', len(df_50000_b02_hospitals))\n",
    "print('Total rows of L04AB02 in pharmacies:', len(df_50000_b02_pharmacies))\n",
    "print()\n",
    "print('resampled 100k df:')\n",
    "print('Total rows of L04AB02:', len(df_100000_B02))\n",
    "print('Total rows of L04AB02 in hospitals:', len(df_100000_b02_hospitals))\n",
    "print('Total rows of L04AB02 in pharmacies:', len(df_100000_b02_pharmacies))"
   ]
  },
  {
   "cell_type": "code",
   "execution_count": 15,
   "metadata": {},
   "outputs": [
    {
     "name": "stdout",
     "output_type": "stream",
     "text": [
      "df:\n",
      "Total rows of L04AB05: 3505\n",
      "Total rows of L04AB05 in hospitals: 481\n",
      "Total rows of L04AB05 in pharmacies: 268\n",
      "\n",
      "resampled 20k df:\n",
      "Total rows of L04AB05: 13039\n",
      "Total rows of L04AB05 in hospitals: 1707\n",
      "Total rows of L04AB05 in pharmacies: 949\n",
      "\n",
      "resampled 50k df:\n",
      "Total rows of L04AB05: 28413\n",
      "Total rows of L04AB05 in hospitals: 3826\n",
      "Total rows of L04AB05 in pharmacies: 2098\n",
      "\n",
      "resampled 100k df:\n",
      "Total rows of L04AB05: 53890\n",
      "Total rows of L04AB05 in hospitals: 7219\n",
      "Total rows of L04AB05 in pharmacies: 4037\n"
     ]
    }
   ],
   "source": [
    "# L04AB05 = 2\n",
    "# Hospital = 0\n",
    "# Pharmacy = 1\n",
    "\n",
    "df_B05 = df[df['WHO ATC 5 Code'] == 2]\n",
    "df_20000_B05 = df_resampled_20000[df_resampled_20000['WHO ATC 5 Code'] == 2]\n",
    "df_50000_B05 = df_resampled_50000[df_resampled_50000['WHO ATC 5 Code'] == 2]\n",
    "df_100000_B05 = df_resampled_100000[df_resampled_100000['WHO ATC 5 Code'] == 2]\n",
    "\n",
    "df_b05_hospitals = df_B05[df_B05['Type'] == 0]\n",
    "df_b05_pharmacies = df_B05[df_B05['Type'] == 1]\n",
    "\n",
    "df_20000_b05_hospitals = df_20000_B05[df_20000_B05['Type'] == 0]\n",
    "df_20000_b05_pharmacies = df_20000_B05[df_20000_B05['Type'] == 1]\n",
    "\n",
    "df_50000_b05_hospitals = df_50000_B05[df_50000_B05['Type'] == 0]\n",
    "df_50000_b05_pharmacies = df_50000_B05[df_50000_B05['Type'] == 1]\n",
    "\n",
    "df_100000_b05_hospitals = df_100000_B05[df_100000_B05['Type'] == 0]\n",
    "df_100000_b05_pharmacies = df_100000_B05[df_100000_B05['Type'] == 1]\n",
    "\n",
    "print('df:')\n",
    "print('Total rows of L04AB05:', len(df_B05))\n",
    "print('Total rows of L04AB05 in hospitals:', len(df_b05_hospitals))\n",
    "print('Total rows of L04AB05 in pharmacies:', len(df_b05_pharmacies))\n",
    "print()\n",
    "print('resampled 20k df:')\n",
    "print('Total rows of L04AB05:', len(df_20000_B05))\n",
    "print('Total rows of L04AB05 in hospitals:', len(df_20000_b05_hospitals))\n",
    "print('Total rows of L04AB05 in pharmacies:', len(df_20000_b05_pharmacies))\n",
    "print()\n",
    "print('resampled 50k df:')\n",
    "print('Total rows of L04AB05:', len(df_50000_B05))\n",
    "print('Total rows of L04AB05 in hospitals:', len(df_50000_b05_hospitals))\n",
    "print('Total rows of L04AB05 in pharmacies:', len(df_50000_b05_pharmacies))\n",
    "print()\n",
    "print('resampled 100k df:')\n",
    "print('Total rows of L04AB05:', len(df_100000_B05))\n",
    "print('Total rows of L04AB05 in hospitals:', len(df_100000_b05_hospitals))\n",
    "print('Total rows of L04AB05 in pharmacies:', len(df_100000_b05_pharmacies))"
   ]
  },
  {
   "cell_type": "markdown",
   "metadata": {},
   "source": [
    "#### Summarization of the dataframes we will use"
   ]
  },
  {
   "cell_type": "code",
   "execution_count": 16,
   "metadata": {},
   "outputs": [],
   "source": [
    "X_train\n",
    "y_train\n",
    "\n",
    "X_res_20k = df_resampled_20000.drop(['Volume', 'Account Description', 'Size', 'Year Month (after 2000) in Datetime', 'Value'], axis=1).values\n",
    "y_res_20k = df_resampled_20000['Volume'].values\n",
    "\n",
    "X__res_50k = df_resampled_50000.drop(['Volume', 'Account Description', 'Size', 'Year Month (after 2000) in Datetime', 'Value'], axis=1).values\n",
    "y_res_50k = df_resampled_50000['Volume'].values\n",
    "\n",
    "X_res_100k = df_resampled_100000.drop(['Volume', 'Account Description', 'Size', 'Year Month (after 2000) in Datetime', 'Value'], axis=1).values\n",
    "y_res_100k = df_resampled_100000['Volume'].values"
   ]
  }
 ],
 "metadata": {
  "kernelspec": {
   "display_name": "Python 3",
   "language": "python",
   "name": "python3"
  },
  "language_info": {
   "codemirror_mode": {
    "name": "ipython",
    "version": 3
   },
   "file_extension": ".py",
   "mimetype": "text/x-python",
   "name": "python",
   "nbconvert_exporter": "python",
   "pygments_lexer": "ipython3",
   "version": "3.12.5"
  }
 },
 "nbformat": 4,
 "nbformat_minor": 2
}
