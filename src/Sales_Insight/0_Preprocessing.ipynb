{
 "cells": [
  {
   "cell_type": "markdown",
   "metadata": {},
   "source": [
    "## Relevant libraries and methods"
   ]
  },
  {
   "cell_type": "code",
   "execution_count": 3,
   "metadata": {},
   "outputs": [
    {
     "name": "stdout",
     "output_type": "stream",
     "text": [
      "Requirement already satisfied: openpyxl in c:\\users\\victo\\appdata\\local\\programs\\mu editor\\python\\lib\\site-packages (3.1.5)\n",
      "Requirement already satisfied: et-xmlfile in c:\\users\\victo\\appdata\\local\\programs\\mu editor\\python\\lib\\site-packages (from openpyxl) (2.0.0)\n",
      "Note: you may need to restart the kernel to use updated packages.\n"
     ]
    },
    {
     "name": "stderr",
     "output_type": "stream",
     "text": [
      "WARNING: You are using pip version 21.2.4; however, version 24.3.1 is available.\n",
      "You should consider upgrading via the 'c:\\Users\\Victo\\AppData\\Local\\Programs\\MUEDIT~1\\Python\\pythonw.exe -m pip install --upgrade pip' command.\n"
     ]
    },
    {
     "name": "stdout",
     "output_type": "stream",
     "text": [
      "Requirement already satisfied: scikit-learn in c:\\users\\victo\\appdata\\local\\programs\\mu editor\\python\\lib\\site-packages (1.3.2)\n",
      "Requirement already satisfied: scipy>=1.5.0 in c:\\users\\victo\\appdata\\local\\programs\\mu editor\\python\\lib\\site-packages (from scikit-learn) (1.10.1)\n",
      "Requirement already satisfied: numpy<2.0,>=1.17.3 in c:\\users\\victo\\appdata\\local\\programs\\mu editor\\python\\lib\\site-packages (from scikit-learn) (1.24.4)\n",
      "Requirement already satisfied: joblib>=1.1.1 in c:\\users\\victo\\appdata\\local\\programs\\mu editor\\python\\lib\\site-packages (from scikit-learn) (1.4.2)\n",
      "Requirement already satisfied: threadpoolctl>=2.0.0 in c:\\users\\victo\\appdata\\local\\programs\\mu editor\\python\\lib\\site-packages (from scikit-learn) (3.5.0)\n",
      "Note: you may need to restart the kernel to use updated packages.\n"
     ]
    },
    {
     "name": "stderr",
     "output_type": "stream",
     "text": [
      "WARNING: You are using pip version 21.2.4; however, version 24.3.1 is available.\n",
      "You should consider upgrading via the 'c:\\Users\\Victo\\AppData\\Local\\Programs\\MUEDIT~1\\Python\\pythonw.exe -m pip install --upgrade pip' command.\n"
     ]
    },
    {
     "name": "stdout",
     "output_type": "stream",
     "text": [
      "Requirement already satisfied: pandas in c:\\users\\victo\\appdata\\local\\programs\\mu editor\\python\\lib\\site-packages (2.0.3)\n",
      "Requirement already satisfied: python-dateutil>=2.8.2 in c:\\users\\victo\\appdata\\local\\programs\\mu editor\\python\\lib\\site-packages (from pandas) (2.8.2)\n",
      "Requirement already satisfied: numpy>=1.20.3 in c:\\users\\victo\\appdata\\local\\programs\\mu editor\\python\\lib\\site-packages (from pandas) (1.24.4)\n",
      "Requirement already satisfied: tzdata>=2022.1 in c:\\users\\victo\\appdata\\local\\programs\\mu editor\\python\\lib\\site-packages (from pandas) (2024.2)\n",
      "Requirement already satisfied: pytz>=2020.1 in c:\\users\\victo\\appdata\\local\\programs\\mu editor\\python\\lib\\site-packages (from pandas) (2024.2)\n",
      "Requirement already satisfied: six>=1.5 in c:\\users\\victo\\appdata\\local\\programs\\mu editor\\python\\lib\\site-packages (from python-dateutil>=2.8.2->pandas) (1.16.0)\n",
      "Note: you may need to restart the kernel to use updated packages.\n"
     ]
    },
    {
     "name": "stderr",
     "output_type": "stream",
     "text": [
      "WARNING: You are using pip version 21.2.4; however, version 24.3.1 is available.\n",
      "You should consider upgrading via the 'c:\\Users\\Victo\\AppData\\Local\\Programs\\MUEDIT~1\\Python\\pythonw.exe -m pip install --upgrade pip' command.\n"
     ]
    },
    {
     "name": "stdout",
     "output_type": "stream",
     "text": [
      "Collecting seaborn\n",
      "  Downloading seaborn-0.13.2-py3-none-any.whl (294 kB)\n",
      "Collecting matplotlib!=3.6.1,>=3.4\n",
      "  Downloading matplotlib-3.7.5-cp38-cp38-win_amd64.whl (7.5 MB)\n",
      "Requirement already satisfied: pandas>=1.2 in c:\\users\\victo\\appdata\\local\\programs\\mu editor\\python\\lib\\site-packages (from seaborn) (2.0.3)\n",
      "Requirement already satisfied: numpy!=1.24.0,>=1.20 in c:\\users\\victo\\appdata\\local\\programs\\mu editor\\python\\lib\\site-packages (from seaborn) (1.24.4)\n",
      "Collecting importlib-resources>=3.2.0\n",
      "  Downloading importlib_resources-6.4.5-py3-none-any.whl (36 kB)\n",
      "Collecting contourpy>=1.0.1\n",
      "  Downloading contourpy-1.1.1-cp38-cp38-win_amd64.whl (477 kB)\n",
      "Requirement already satisfied: packaging>=20.0 in c:\\users\\victo\\appdata\\local\\programs\\mu editor\\python\\lib\\site-packages (from matplotlib!=3.6.1,>=3.4->seaborn) (21.3)\n",
      "Requirement already satisfied: pyparsing>=2.3.1 in c:\\users\\victo\\appdata\\local\\programs\\mu editor\\python\\lib\\site-packages (from matplotlib!=3.6.1,>=3.4->seaborn) (3.0.9)\n",
      "Requirement already satisfied: python-dateutil>=2.7 in c:\\users\\victo\\appdata\\local\\programs\\mu editor\\python\\lib\\site-packages (from matplotlib!=3.6.1,>=3.4->seaborn) (2.8.2)\n",
      "Collecting pillow>=6.2.0\n",
      "  Downloading pillow-10.4.0-cp38-cp38-win_amd64.whl (2.6 MB)\n",
      "Collecting cycler>=0.10\n",
      "  Downloading cycler-0.12.1-py3-none-any.whl (8.3 kB)\n",
      "Collecting kiwisolver>=1.0.1\n",
      "  Downloading kiwisolver-1.4.7-cp38-cp38-win_amd64.whl (55 kB)\n",
      "Collecting fonttools>=4.22.0\n",
      "  Downloading fonttools-4.55.0-cp38-cp38-win_amd64.whl (1.5 MB)\n",
      "Collecting zipp>=3.1.0\n",
      "  Downloading zipp-3.20.2-py3-none-any.whl (9.2 kB)\n",
      "Requirement already satisfied: pytz>=2020.1 in c:\\users\\victo\\appdata\\local\\programs\\mu editor\\python\\lib\\site-packages (from pandas>=1.2->seaborn) (2024.2)\n",
      "Requirement already satisfied: tzdata>=2022.1 in c:\\users\\victo\\appdata\\local\\programs\\mu editor\\python\\lib\\site-packages (from pandas>=1.2->seaborn) (2024.2)\n",
      "Requirement already satisfied: six>=1.5 in c:\\users\\victo\\appdata\\local\\programs\\mu editor\\python\\lib\\site-packages (from python-dateutil>=2.7->matplotlib!=3.6.1,>=3.4->seaborn) (1.16.0)\n",
      "Installing collected packages: zipp, pillow, kiwisolver, importlib-resources, fonttools, cycler, contourpy, matplotlib, seaborn\n",
      "Successfully installed contourpy-1.1.1 cycler-0.12.1 fonttools-4.55.0 importlib-resources-6.4.5 kiwisolver-1.4.7 matplotlib-3.7.5 pillow-10.4.0 seaborn-0.13.2 zipp-3.20.2\n",
      "Note: you may need to restart the kernel to use updated packages.\n"
     ]
    },
    {
     "name": "stderr",
     "output_type": "stream",
     "text": [
      "  WARNING: The scripts fonttools.exe, pyftmerge.exe, pyftsubset.exe and ttx.exe are installed in 'c:\\Users\\Victo\\AppData\\Local\\Programs\\MUEDIT~1\\Python\\Scripts' which is not on PATH.\n",
      "  Consider adding this directory to PATH or, if you prefer to suppress this warning, use --no-warn-script-location.\n",
      "WARNING: You are using pip version 21.2.4; however, version 24.3.1 is available.\n",
      "You should consider upgrading via the 'c:\\Users\\Victo\\AppData\\Local\\Programs\\MUEDIT~1\\Python\\pythonw.exe -m pip install --upgrade pip' command.\n"
     ]
    }
   ],
   "source": [
    "%pip install openpyxl\n",
    "%pip install scikit-learn\n",
    "%pip install pandas\n",
    "%pip install seaborn"
   ]
  },
  {
   "cell_type": "code",
   "execution_count": 4,
   "metadata": {},
   "outputs": [],
   "source": [
    "import os\n",
    "import glob\n",
    "\n",
    "# Data handling and manipulation library\n",
    "import pandas as pd\n",
    "import numpy as np\n",
    "import seaborn as sns\n",
    "import matplotlib.pyplot as plt"
   ]
  },
  {
   "cell_type": "code",
   "execution_count": 5,
   "metadata": {},
   "outputs": [],
   "source": [
    "pharDf = pd.read_csv('data_processed\\sales_insights_pharmacy_cleaned.csv', delimiter=',')\n",
    "hospDf = pd.read_csv('data_processed\\sales_insights_hospital_cleaned.csv', delimiter=',')"
   ]
  },
  {
   "cell_type": "code",
   "execution_count": 6,
   "metadata": {},
   "outputs": [
    {
     "name": "stdout",
     "output_type": "stream",
     "text": [
      "7282\n",
      "4724\n",
      "Index(['Account Description', 'Size', 'Size Numeric', 'Strength (mg)',\n",
      "       'WHO ATC 5 Code', 'Volume', 'Value', 'Year Month (after 2000)',\n",
      "       'Year (after 2000)', 'Month', 'Region_Færøerne', 'Region_Hovedstaden',\n",
      "       'Region_Midtjylland', 'Region_Nordjylland', 'Region_Sjælland',\n",
      "       'Region_Syddanmark', 'Product_Cimzia', 'Product_Inflectra',\n",
      "       'Product_Remicade', 'Product_Remsima', 'Product_Stelara',\n",
      "       'Product_Zessly'],\n",
      "      dtype='object')\n",
      "Index(['Account Description', 'Size', 'Size Numeric', 'Strength (mg)',\n",
      "       'WHO ATC 5 Code', 'Volume', 'Value', 'Year Month (after 2000)',\n",
      "       'Year (after 2000)', 'Month', 'Region_Hovedstaden',\n",
      "       'Region_Midtjylland', 'Region_Nordjylland', 'Region_Sjælland',\n",
      "       'Region_Syddanmark', 'Product_Cimzia', 'Product_Inflectra',\n",
      "       'Product_Remicade', 'Product_Remsima', 'Product_Stelara',\n",
      "       'Product_Zessly'],\n",
      "      dtype='object')\n"
     ]
    }
   ],
   "source": [
    "print(len(pharDf))\n",
    "print(len(hospDf))\n",
    "print(pharDf.columns)\n",
    "print(hospDf.columns)"
   ]
  },
  {
   "cell_type": "markdown",
   "metadata": {},
   "source": [
    "#### Merge datasets phar and hosp insights and remove unwanted columns + duplicates"
   ]
  },
  {
   "cell_type": "code",
   "execution_count": 7,
   "metadata": {},
   "outputs": [
    {
     "name": "stdout",
     "output_type": "stream",
     "text": [
      "7282\n"
     ]
    }
   ],
   "source": [
    "# Merge the two datasets together\n",
    "merged_df = pd.concat([pharDf, hospDf], ignore_index=True)\n",
    "\n",
    "# remove the column 'Region_Færøerne'\n",
    "merged_df = merged_df.drop(columns=['Region_Færøerne'])\n",
    "\n",
    "# drop duplicates in pharmacy_df\n",
    "merged_df_no_Dups = merged_df.drop_duplicates()\n",
    "\n",
    "# convert the float to int in column 'Year Month (after 2000)'.\n",
    "# merged_df_no_Dups['Year Month (after 2000)'] = merged_df_no_Dups['Year Month (after 2000)'].astype(int)\n",
    "\n",
    "print(len(merged_df_no_Dups))"
   ]
  },
  {
   "cell_type": "markdown",
   "metadata": {},
   "source": [
    "#### Divide the dataset into two subdatasets: Hospital and Pharmacy"
   ]
  },
  {
   "cell_type": "code",
   "execution_count": 8,
   "metadata": {},
   "outputs": [
    {
     "name": "stdout",
     "output_type": "stream",
     "text": [
      "1154\n",
      "6128\n"
     ]
    }
   ],
   "source": [
    "hospitalDf = merged_df_no_Dups[~merged_df_no_Dups['Account Description'].str.contains('Apotek', case=False)]\n",
    "pharmacyDf = merged_df_no_Dups[merged_df_no_Dups['Account Description'].str.contains('Apotek', case=False)]\n",
    "\n",
    "print(len(hospitalDf))\n",
    "print(len(pharmacyDf))"
   ]
  },
  {
   "cell_type": "markdown",
   "metadata": {},
   "source": [
    "#### Convert Year Month to datetime object and remove year column"
   ]
  },
  {
   "cell_type": "code",
   "execution_count": 9,
   "metadata": {},
   "outputs": [
    {
     "name": "stderr",
     "output_type": "stream",
     "text": [
      "<ipython-input-9-4b63f8ffceb1>:2: SettingWithCopyWarning: \n",
      "A value is trying to be set on a copy of a slice from a DataFrame.\n",
      "Try using .loc[row_indexer,col_indexer] = value instead\n",
      "\n",
      "See the caveats in the documentation: https://pandas.pydata.org/pandas-docs/stable/user_guide/indexing.html#returning-a-view-versus-a-copy\n",
      "  hospitalDf['Year Month (after 2000) in Datetime'] = pd.to_datetime(hospitalDf['Year Month (after 2000)'].astype(int).astype(str), format='%y%m')\n",
      "<ipython-input-9-4b63f8ffceb1>:3: SettingWithCopyWarning: \n",
      "A value is trying to be set on a copy of a slice from a DataFrame.\n",
      "Try using .loc[row_indexer,col_indexer] = value instead\n",
      "\n",
      "See the caveats in the documentation: https://pandas.pydata.org/pandas-docs/stable/user_guide/indexing.html#returning-a-view-versus-a-copy\n",
      "  pharmacyDf['Year Month (after 2000) in Datetime'] = pd.to_datetime(pharmacyDf['Year Month (after 2000)'].astype(int).astype(str), format='%y%m')\n",
      "<ipython-input-9-4b63f8ffceb1>:6: SettingWithCopyWarning: \n",
      "A value is trying to be set on a copy of a slice from a DataFrame.\n",
      "Try using .loc[row_indexer,col_indexer] = value instead\n",
      "\n",
      "See the caveats in the documentation: https://pandas.pydata.org/pandas-docs/stable/user_guide/indexing.html#returning-a-view-versus-a-copy\n",
      "  hospitalDf['Year Month (after 2000) in Datetime'] = hospitalDf['Year Month (after 2000) in Datetime'].dt.to_period('M')\n",
      "<ipython-input-9-4b63f8ffceb1>:7: SettingWithCopyWarning: \n",
      "A value is trying to be set on a copy of a slice from a DataFrame.\n",
      "Try using .loc[row_indexer,col_indexer] = value instead\n",
      "\n",
      "See the caveats in the documentation: https://pandas.pydata.org/pandas-docs/stable/user_guide/indexing.html#returning-a-view-versus-a-copy\n",
      "  pharmacyDf['Year Month (after 2000) in Datetime'] = pharmacyDf['Year Month (after 2000) in Datetime'].dt.to_period('M')\n",
      "<ipython-input-9-4b63f8ffceb1>:10: SettingWithCopyWarning: \n",
      "A value is trying to be set on a copy of a slice from a DataFrame.\n",
      "Try using .loc[row_indexer,col_indexer] = value instead\n",
      "\n",
      "See the caveats in the documentation: https://pandas.pydata.org/pandas-docs/stable/user_guide/indexing.html#returning-a-view-versus-a-copy\n",
      "  hospitalDf['Year Month (after 2000) in Datetime'] = hospitalDf['Year Month (after 2000) in Datetime'].astype(str)\n",
      "<ipython-input-9-4b63f8ffceb1>:11: SettingWithCopyWarning: \n",
      "A value is trying to be set on a copy of a slice from a DataFrame.\n",
      "Try using .loc[row_indexer,col_indexer] = value instead\n",
      "\n",
      "See the caveats in the documentation: https://pandas.pydata.org/pandas-docs/stable/user_guide/indexing.html#returning-a-view-versus-a-copy\n",
      "  pharmacyDf['Year Month (after 2000) in Datetime'] = pharmacyDf['Year Month (after 2000) in Datetime'].astype(str)\n"
     ]
    }
   ],
   "source": [
    "# Convert the 'Year Month (after 2000)' column to a datetime\n",
    "hospitalDf['Year Month (after 2000) in Datetime'] = pd.to_datetime(hospitalDf['Year Month (after 2000)'].astype(int).astype(str), format='%y%m')\n",
    "pharmacyDf['Year Month (after 2000) in Datetime'] = pd.to_datetime(pharmacyDf['Year Month (after 2000)'].astype(int).astype(str), format='%y%m')\n",
    "\n",
    "# Remove time from the datetime object\n",
    "hospitalDf['Year Month (after 2000) in Datetime'] = hospitalDf['Year Month (after 2000) in Datetime'].dt.to_period('M')\n",
    "pharmacyDf['Year Month (after 2000) in Datetime'] = pharmacyDf['Year Month (after 2000) in Datetime'].dt.to_period('M')\n",
    "\n",
    "# Convert the date object to a string\n",
    "hospitalDf['Year Month (after 2000) in Datetime'] = hospitalDf['Year Month (after 2000) in Datetime'].astype(str)\n",
    "pharmacyDf['Year Month (after 2000) in Datetime'] = pharmacyDf['Year Month (after 2000) in Datetime'].astype(str)\n",
    "\n",
    "# Add the 'Year Month (after 2000) in Datetime' column to the 8th column\n",
    "cols = hospitalDf.columns.tolist()\n",
    "cols = cols[:8] + cols[-1:] + cols[8:-1]\n",
    "hospitalDf = hospitalDf[cols]\n",
    "pharmacyDf = pharmacyDf[cols]\n",
    "\n",
    "# drop the 'Year (after 2000)' column\n",
    "hospitalDf = hospitalDf.drop(columns=['Year (after 2000)'])\n",
    "pharmacyDf = pharmacyDf.drop(columns=['Year (after 2000)'])\n",
    "\n",
    "# drop the 'month' column\n",
    "hospitalDf = hospitalDf.drop(columns=['Month'])\n",
    "pharmacyDf = pharmacyDf.drop(columns=['Month'])"
   ]
  },
  {
   "cell_type": "markdown",
   "metadata": {},
   "source": [
    "#### Add new Account Description ID Column"
   ]
  },
  {
   "cell_type": "code",
   "execution_count": 10,
   "metadata": {},
   "outputs": [
    {
     "data": {
      "text/html": [
       "<div>\n",
       "<style scoped>\n",
       "    .dataframe tbody tr th:only-of-type {\n",
       "        vertical-align: middle;\n",
       "    }\n",
       "\n",
       "    .dataframe tbody tr th {\n",
       "        vertical-align: top;\n",
       "    }\n",
       "\n",
       "    .dataframe thead th {\n",
       "        text-align: right;\n",
       "    }\n",
       "</style>\n",
       "<table border=\"1\" class=\"dataframe\">\n",
       "  <thead>\n",
       "    <tr style=\"text-align: right;\">\n",
       "      <th></th>\n",
       "      <th>Account Description ID</th>\n",
       "      <th>Account Description</th>\n",
       "      <th>Size</th>\n",
       "      <th>Size Numeric</th>\n",
       "      <th>Strength (mg)</th>\n",
       "      <th>WHO ATC 5 Code</th>\n",
       "      <th>Volume</th>\n",
       "      <th>Value</th>\n",
       "      <th>Year Month (after 2000)</th>\n",
       "      <th>Year Month (after 2000) in Datetime</th>\n",
       "      <th>...</th>\n",
       "      <th>Region_Midtjylland</th>\n",
       "      <th>Region_Nordjylland</th>\n",
       "      <th>Region_Sjælland</th>\n",
       "      <th>Region_Syddanmark</th>\n",
       "      <th>Product_Cimzia</th>\n",
       "      <th>Product_Inflectra</th>\n",
       "      <th>Product_Remicade</th>\n",
       "      <th>Product_Remsima</th>\n",
       "      <th>Product_Stelara</th>\n",
       "      <th>Product_Zessly</th>\n",
       "    </tr>\n",
       "  </thead>\n",
       "  <tbody>\n",
       "    <tr>\n",
       "      <th>0</th>\n",
       "      <td>0</td>\n",
       "      <td>3061 Aalborg ø Fyrkilden</td>\n",
       "      <td>1  eng. spr. a 1 ml</td>\n",
       "      <td>1.0</td>\n",
       "      <td>90.0</td>\n",
       "      <td>L04AC05</td>\n",
       "      <td>2.0</td>\n",
       "      <td>51475.62</td>\n",
       "      <td>1508.0</td>\n",
       "      <td>2015-08</td>\n",
       "      <td>...</td>\n",
       "      <td>False</td>\n",
       "      <td>True</td>\n",
       "      <td>False</td>\n",
       "      <td>False</td>\n",
       "      <td>False</td>\n",
       "      <td>False</td>\n",
       "      <td>False</td>\n",
       "      <td>False</td>\n",
       "      <td>True</td>\n",
       "      <td>False</td>\n",
       "    </tr>\n",
       "    <tr>\n",
       "      <th>1</th>\n",
       "      <td>0</td>\n",
       "      <td>3061 Aalborg ø Fyrkilden</td>\n",
       "      <td>1  eng. spr. a 1 ml</td>\n",
       "      <td>1.0</td>\n",
       "      <td>90.0</td>\n",
       "      <td>L04AC05</td>\n",
       "      <td>2.0</td>\n",
       "      <td>51475.62</td>\n",
       "      <td>1510.0</td>\n",
       "      <td>2015-10</td>\n",
       "      <td>...</td>\n",
       "      <td>False</td>\n",
       "      <td>True</td>\n",
       "      <td>False</td>\n",
       "      <td>False</td>\n",
       "      <td>False</td>\n",
       "      <td>False</td>\n",
       "      <td>False</td>\n",
       "      <td>False</td>\n",
       "      <td>True</td>\n",
       "      <td>False</td>\n",
       "    </tr>\n",
       "    <tr>\n",
       "      <th>2</th>\n",
       "      <td>0</td>\n",
       "      <td>3061 Aalborg ø Fyrkilden</td>\n",
       "      <td>1 stk.  (0.5 ml)</td>\n",
       "      <td>1.0</td>\n",
       "      <td>45.0</td>\n",
       "      <td>L04AC05</td>\n",
       "      <td>1.0</td>\n",
       "      <td>25737.81</td>\n",
       "      <td>1511.0</td>\n",
       "      <td>2015-11</td>\n",
       "      <td>...</td>\n",
       "      <td>False</td>\n",
       "      <td>True</td>\n",
       "      <td>False</td>\n",
       "      <td>False</td>\n",
       "      <td>False</td>\n",
       "      <td>False</td>\n",
       "      <td>False</td>\n",
       "      <td>False</td>\n",
       "      <td>True</td>\n",
       "      <td>False</td>\n",
       "    </tr>\n",
       "    <tr>\n",
       "      <th>3</th>\n",
       "      <td>0</td>\n",
       "      <td>3061 Aalborg ø Fyrkilden</td>\n",
       "      <td>1  eng. spr. a 1 ml</td>\n",
       "      <td>1.0</td>\n",
       "      <td>90.0</td>\n",
       "      <td>L04AC05</td>\n",
       "      <td>1.0</td>\n",
       "      <td>25737.81</td>\n",
       "      <td>1512.0</td>\n",
       "      <td>2015-12</td>\n",
       "      <td>...</td>\n",
       "      <td>False</td>\n",
       "      <td>True</td>\n",
       "      <td>False</td>\n",
       "      <td>False</td>\n",
       "      <td>False</td>\n",
       "      <td>False</td>\n",
       "      <td>False</td>\n",
       "      <td>False</td>\n",
       "      <td>True</td>\n",
       "      <td>False</td>\n",
       "    </tr>\n",
       "    <tr>\n",
       "      <th>4</th>\n",
       "      <td>0</td>\n",
       "      <td>3061 Aalborg ø Fyrkilden</td>\n",
       "      <td>1  eng. spr. a 1 ml</td>\n",
       "      <td>1.0</td>\n",
       "      <td>90.0</td>\n",
       "      <td>L04AC05</td>\n",
       "      <td>1.0</td>\n",
       "      <td>25737.81</td>\n",
       "      <td>1602.0</td>\n",
       "      <td>2016-02</td>\n",
       "      <td>...</td>\n",
       "      <td>False</td>\n",
       "      <td>True</td>\n",
       "      <td>False</td>\n",
       "      <td>False</td>\n",
       "      <td>False</td>\n",
       "      <td>False</td>\n",
       "      <td>False</td>\n",
       "      <td>False</td>\n",
       "      <td>True</td>\n",
       "      <td>False</td>\n",
       "    </tr>\n",
       "    <tr>\n",
       "      <th>...</th>\n",
       "      <td>...</td>\n",
       "      <td>...</td>\n",
       "      <td>...</td>\n",
       "      <td>...</td>\n",
       "      <td>...</td>\n",
       "      <td>...</td>\n",
       "      <td>...</td>\n",
       "      <td>...</td>\n",
       "      <td>...</td>\n",
       "      <td>...</td>\n",
       "      <td>...</td>\n",
       "      <td>...</td>\n",
       "      <td>...</td>\n",
       "      <td>...</td>\n",
       "      <td>...</td>\n",
       "      <td>...</td>\n",
       "      <td>...</td>\n",
       "      <td>...</td>\n",
       "      <td>...</td>\n",
       "      <td>...</td>\n",
       "      <td>...</td>\n",
       "    </tr>\n",
       "    <tr>\n",
       "      <th>7277</th>\n",
       "      <td>257</td>\n",
       "      <td>4398 Viborg Sygehus. apoteket</td>\n",
       "      <td>1 htgl.</td>\n",
       "      <td>1.0</td>\n",
       "      <td>100.0</td>\n",
       "      <td>L04AB02</td>\n",
       "      <td>472.0</td>\n",
       "      <td>2028009.36</td>\n",
       "      <td>1310.0</td>\n",
       "      <td>2013-10</td>\n",
       "      <td>...</td>\n",
       "      <td>True</td>\n",
       "      <td>False</td>\n",
       "      <td>False</td>\n",
       "      <td>False</td>\n",
       "      <td>False</td>\n",
       "      <td>False</td>\n",
       "      <td>True</td>\n",
       "      <td>False</td>\n",
       "      <td>False</td>\n",
       "      <td>False</td>\n",
       "    </tr>\n",
       "    <tr>\n",
       "      <th>7278</th>\n",
       "      <td>257</td>\n",
       "      <td>4398 Viborg Sygehus. apoteket</td>\n",
       "      <td>2 stk.</td>\n",
       "      <td>2.0</td>\n",
       "      <td>200.0</td>\n",
       "      <td>L04AB05</td>\n",
       "      <td>45.0</td>\n",
       "      <td>354665.70</td>\n",
       "      <td>1311.0</td>\n",
       "      <td>2013-11</td>\n",
       "      <td>...</td>\n",
       "      <td>True</td>\n",
       "      <td>False</td>\n",
       "      <td>False</td>\n",
       "      <td>False</td>\n",
       "      <td>True</td>\n",
       "      <td>False</td>\n",
       "      <td>False</td>\n",
       "      <td>False</td>\n",
       "      <td>False</td>\n",
       "      <td>False</td>\n",
       "    </tr>\n",
       "    <tr>\n",
       "      <th>7279</th>\n",
       "      <td>257</td>\n",
       "      <td>4398 Viborg Sygehus. apoteket</td>\n",
       "      <td>1 htgl.</td>\n",
       "      <td>1.0</td>\n",
       "      <td>100.0</td>\n",
       "      <td>L04AB02</td>\n",
       "      <td>410.0</td>\n",
       "      <td>1761618.30</td>\n",
       "      <td>1311.0</td>\n",
       "      <td>2013-11</td>\n",
       "      <td>...</td>\n",
       "      <td>True</td>\n",
       "      <td>False</td>\n",
       "      <td>False</td>\n",
       "      <td>False</td>\n",
       "      <td>False</td>\n",
       "      <td>False</td>\n",
       "      <td>True</td>\n",
       "      <td>False</td>\n",
       "      <td>False</td>\n",
       "      <td>False</td>\n",
       "    </tr>\n",
       "    <tr>\n",
       "      <th>7280</th>\n",
       "      <td>257</td>\n",
       "      <td>4398 Viborg Sygehus. apoteket</td>\n",
       "      <td>2 stk.</td>\n",
       "      <td>2.0</td>\n",
       "      <td>200.0</td>\n",
       "      <td>L04AB05</td>\n",
       "      <td>52.0</td>\n",
       "      <td>409835.92</td>\n",
       "      <td>1312.0</td>\n",
       "      <td>2013-12</td>\n",
       "      <td>...</td>\n",
       "      <td>True</td>\n",
       "      <td>False</td>\n",
       "      <td>False</td>\n",
       "      <td>False</td>\n",
       "      <td>True</td>\n",
       "      <td>False</td>\n",
       "      <td>False</td>\n",
       "      <td>False</td>\n",
       "      <td>False</td>\n",
       "      <td>False</td>\n",
       "    </tr>\n",
       "    <tr>\n",
       "      <th>7281</th>\n",
       "      <td>257</td>\n",
       "      <td>4398 Viborg Sygehus. apoteket</td>\n",
       "      <td>1 htgl.</td>\n",
       "      <td>1.0</td>\n",
       "      <td>100.0</td>\n",
       "      <td>L04AB02</td>\n",
       "      <td>292.0</td>\n",
       "      <td>1254615.96</td>\n",
       "      <td>1312.0</td>\n",
       "      <td>2013-12</td>\n",
       "      <td>...</td>\n",
       "      <td>True</td>\n",
       "      <td>False</td>\n",
       "      <td>False</td>\n",
       "      <td>False</td>\n",
       "      <td>False</td>\n",
       "      <td>False</td>\n",
       "      <td>True</td>\n",
       "      <td>False</td>\n",
       "      <td>False</td>\n",
       "      <td>False</td>\n",
       "    </tr>\n",
       "  </tbody>\n",
       "</table>\n",
       "<p>7282 rows × 21 columns</p>\n",
       "</div>"
      ],
      "text/plain": [
       "      Account Description ID            Account Description  \\\n",
       "0                          0       3061 Aalborg ø Fyrkilden   \n",
       "1                          0       3061 Aalborg ø Fyrkilden   \n",
       "2                          0       3061 Aalborg ø Fyrkilden   \n",
       "3                          0       3061 Aalborg ø Fyrkilden   \n",
       "4                          0       3061 Aalborg ø Fyrkilden   \n",
       "...                      ...                            ...   \n",
       "7277                     257  4398 Viborg Sygehus. apoteket   \n",
       "7278                     257  4398 Viborg Sygehus. apoteket   \n",
       "7279                     257  4398 Viborg Sygehus. apoteket   \n",
       "7280                     257  4398 Viborg Sygehus. apoteket   \n",
       "7281                     257  4398 Viborg Sygehus. apoteket   \n",
       "\n",
       "                     Size  Size Numeric  Strength (mg) WHO ATC 5 Code  Volume  \\\n",
       "0     1  eng. spr. a 1 ml           1.0           90.0        L04AC05     2.0   \n",
       "1     1  eng. spr. a 1 ml           1.0           90.0        L04AC05     2.0   \n",
       "2        1 stk.  (0.5 ml)           1.0           45.0        L04AC05     1.0   \n",
       "3     1  eng. spr. a 1 ml           1.0           90.0        L04AC05     1.0   \n",
       "4     1  eng. spr. a 1 ml           1.0           90.0        L04AC05     1.0   \n",
       "...                   ...           ...            ...            ...     ...   \n",
       "7277              1 htgl.           1.0          100.0        L04AB02   472.0   \n",
       "7278               2 stk.           2.0          200.0        L04AB05    45.0   \n",
       "7279              1 htgl.           1.0          100.0        L04AB02   410.0   \n",
       "7280               2 stk.           2.0          200.0        L04AB05    52.0   \n",
       "7281              1 htgl.           1.0          100.0        L04AB02   292.0   \n",
       "\n",
       "           Value  Year Month (after 2000) Year Month (after 2000) in Datetime  \\\n",
       "0       51475.62                   1508.0                             2015-08   \n",
       "1       51475.62                   1510.0                             2015-10   \n",
       "2       25737.81                   1511.0                             2015-11   \n",
       "3       25737.81                   1512.0                             2015-12   \n",
       "4       25737.81                   1602.0                             2016-02   \n",
       "...          ...                      ...                                 ...   \n",
       "7277  2028009.36                   1310.0                             2013-10   \n",
       "7278   354665.70                   1311.0                             2013-11   \n",
       "7279  1761618.30                   1311.0                             2013-11   \n",
       "7280   409835.92                   1312.0                             2013-12   \n",
       "7281  1254615.96                   1312.0                             2013-12   \n",
       "\n",
       "      ...  Region_Midtjylland  Region_Nordjylland  Region_Sjælland  \\\n",
       "0     ...               False                True            False   \n",
       "1     ...               False                True            False   \n",
       "2     ...               False                True            False   \n",
       "3     ...               False                True            False   \n",
       "4     ...               False                True            False   \n",
       "...   ...                 ...                 ...              ...   \n",
       "7277  ...                True               False            False   \n",
       "7278  ...                True               False            False   \n",
       "7279  ...                True               False            False   \n",
       "7280  ...                True               False            False   \n",
       "7281  ...                True               False            False   \n",
       "\n",
       "      Region_Syddanmark  Product_Cimzia  Product_Inflectra  Product_Remicade  \\\n",
       "0                 False           False              False             False   \n",
       "1                 False           False              False             False   \n",
       "2                 False           False              False             False   \n",
       "3                 False           False              False             False   \n",
       "4                 False           False              False             False   \n",
       "...                 ...             ...                ...               ...   \n",
       "7277              False           False              False              True   \n",
       "7278              False            True              False             False   \n",
       "7279              False           False              False              True   \n",
       "7280              False            True              False             False   \n",
       "7281              False           False              False              True   \n",
       "\n",
       "      Product_Remsima  Product_Stelara  Product_Zessly  \n",
       "0               False             True           False  \n",
       "1               False             True           False  \n",
       "2               False             True           False  \n",
       "3               False             True           False  \n",
       "4               False             True           False  \n",
       "...               ...              ...             ...  \n",
       "7277            False            False           False  \n",
       "7278            False            False           False  \n",
       "7279            False            False           False  \n",
       "7280            False            False           False  \n",
       "7281            False            False           False  \n",
       "\n",
       "[7282 rows x 21 columns]"
      ]
     },
     "execution_count": 10,
     "metadata": {},
     "output_type": "execute_result"
    }
   ],
   "source": [
    "# Convert all values in Account Description in SortedDfApo to a numbers and store in a new column 'Account Description Number'. \n",
    "# The numbers are ascending from 100 to the number of unique values in 'Account Description'\n",
    "pharmacyDf['Account Description ID'] = pd.factorize(pharmacyDf['Account Description'])[0] + 100\n",
    "pharmacyDf = pharmacyDf[['Account Description ID'] + [col for col in pharmacyDf.columns if col != 'Account Description ID']]\n",
    "\n",
    "# Convert all values in Account Description in SortedDfNonApo to a numbers and store in a new column 'Account Description Number'. \n",
    "# The numbers are ascending from 0 to the number of unique values in 'Account Description'\n",
    "hospitalDf['Account Description ID'] = pd.factorize(hospitalDf['Account Description'])[0]\n",
    "hospitalDf = hospitalDf[['Account Description ID'] + [col for col in hospitalDf.columns if col != 'Account Description ID']]\n",
    "\n",
    "# merge the two dataframes\n",
    "hospitalPharmacyDf = pd.concat([hospitalDf, pharmacyDf], ignore_index=True)\n",
    "\n",
    "# move the new column as the first column\n",
    "hospitalPharmacyDf = hospitalPharmacyDf[['Account Description ID'] + [col for col in hospitalPharmacyDf.columns if col != 'Account Description ID']]\n",
    "\n",
    "hospitalPharmacyDf"
   ]
  },
  {
   "cell_type": "markdown",
   "metadata": {},
   "source": [
    "#### Sort hospital and pharmacy datasets into values between 2010 and 2019 and only for Stelara"
   ]
  },
  {
   "cell_type": "code",
   "execution_count": 11,
   "metadata": {},
   "outputs": [
    {
     "name": "stdout",
     "output_type": "stream",
     "text": [
      "Hospital total sales btw 2010 and 2019 for Stelara:  7621.0\n",
      "Pharmacy total sales btw 2010 and 2019 for Stelara:  23815.0\n",
      "Hospital total sales btw 2010 and 2019 for Cimzia:  13481.0\n",
      "Pharmacy total sales btw 2010 and 2019 for Cimzia:  66583.0\n",
      "Hospital total sales btw 2010 and 2019 for Inflectra:  46652.0\n",
      "Pharmacy total sales btw 2010 and 2019 for Inflectra:  197095.0\n",
      "Hospital total sales btw 2010 and 2019 for Remicade:  59393.0\n",
      "Pharmacy total sales btw 2010 and 2019 for Remicade:  367349.0\n",
      "Hospital total sales btw 2010 and 2019 for Remsima:  51072.0\n",
      "Pharmacy total sales btw 2010 and 2019 for Remsima:  248589.0\n",
      "Hospital total sales btw 2010 and 2019 for Zessly:  22290.0\n",
      "Pharmacy total sales btw 2010 and 2019 for Zessly:  94974.0\n"
     ]
    }
   ],
   "source": [
    "hospitalDfYearSorted = hospitalDf[(hospitalDf['Year Month (after 2000)'] >= 1001) & (hospitalDf['Year Month (after 2000)'] <= 1912)]\n",
    "PharmacyDfYearSorted = pharmacyDf[(pharmacyDf['Year Month (after 2000)'] >= 1001) & (pharmacyDf['Year Month (after 2000)'] <= 1912)]\n",
    "mergedHospitalPharmacyDfYearSorted = pd.concat([hospitalDfYearSorted, PharmacyDfYearSorted], ignore_index=True)\n",
    "\n",
    "#Stelara\n",
    "hospitalDfYearAndStelaraSorted = hospitalDfYearSorted[hospitalDfYearSorted['Product_Stelara'] == True]\n",
    "PharmacyDfYearAndStelaraSorted = PharmacyDfYearSorted[PharmacyDfYearSorted['Product_Stelara'] == True]\n",
    "mergedHospitalPharmacyDfYearAndStelaraSorted = pd.concat([hospitalDfYearAndStelaraSorted, PharmacyDfYearAndStelaraSorted], ignore_index=True)\n",
    "\n",
    "print('Hospital total sales btw 2010 and 2019 for Stelara: ', sum(hospitalDfYearAndStelaraSorted['Volume']))\n",
    "print('Pharmacy total sales btw 2010 and 2019 for Stelara: ', sum(PharmacyDfYearAndStelaraSorted['Volume']))\n",
    "\n",
    "#Cimzia\n",
    "hospitalDfYearAndCimziaSorted = hospitalDfYearSorted[hospitalDfYearSorted['Product_Cimzia'] == True]\n",
    "PharmacyDfYearAndCimziaSorted = PharmacyDfYearSorted[PharmacyDfYearSorted['Product_Cimzia'] == True]\n",
    "mergedHospitalPharmacyDfYearAndCimziaSorted = pd.concat([hospitalDfYearAndCimziaSorted, PharmacyDfYearAndCimziaSorted], ignore_index=True)\n",
    "\n",
    "print('Hospital total sales btw 2010 and 2019 for Cimzia: ', sum(hospitalDfYearAndCimziaSorted['Volume']))\n",
    "print('Pharmacy total sales btw 2010 and 2019 for Cimzia: ', sum(PharmacyDfYearAndCimziaSorted['Volume']))\n",
    "\n",
    "#Inflectra\n",
    "hospitalDfYearAndInflectraSorted = hospitalDfYearSorted[hospitalDfYearSorted['Product_Inflectra'] == True]\n",
    "PharmacyDfYearAndInflectraSorted = PharmacyDfYearSorted[PharmacyDfYearSorted['Product_Inflectra'] == True]\n",
    "mergedHospitalPharmacyDfYearAndInflectraSorted = pd.concat([hospitalDfYearAndInflectraSorted, PharmacyDfYearAndInflectraSorted], ignore_index=True)\n",
    "\n",
    "print('Hospital total sales btw 2010 and 2019 for Inflectra: ', sum(hospitalDfYearAndInflectraSorted['Volume']))\n",
    "print('Pharmacy total sales btw 2010 and 2019 for Inflectra: ', sum(PharmacyDfYearAndInflectraSorted['Volume']))\n",
    "\n",
    "#Remicade\n",
    "hospitalDfYearAndRemicadeSorted = hospitalDfYearSorted[hospitalDfYearSorted['Product_Remicade'] == True]\n",
    "PharmacyDfYearAndRemicadeSorted = PharmacyDfYearSorted[PharmacyDfYearSorted['Product_Remicade'] == True]\n",
    "mergedHospitalPharmacyDfYearAndRemicadeSorted = pd.concat([hospitalDfYearAndRemicadeSorted, PharmacyDfYearAndRemicadeSorted], ignore_index=True)\n",
    "\n",
    "print('Hospital total sales btw 2010 and 2019 for Remicade: ', sum(hospitalDfYearAndRemicadeSorted['Volume']))\n",
    "print('Pharmacy total sales btw 2010 and 2019 for Remicade: ', sum(PharmacyDfYearAndRemicadeSorted['Volume']))\n",
    "\n",
    "#Remsima\n",
    "hospitalDfYearAndRemsimaSorted = hospitalDfYearSorted[hospitalDfYearSorted['Product_Remsima'] == True]\n",
    "PharmacyDfYearAndRemsimaSorted = PharmacyDfYearSorted[PharmacyDfYearSorted['Product_Remsima'] == True]\n",
    "mergedHospitalPharmacyDfYearAndRemsimaSorted = pd.concat([hospitalDfYearAndRemsimaSorted, PharmacyDfYearAndRemsimaSorted], ignore_index=True)\n",
    "\n",
    "print('Hospital total sales btw 2010 and 2019 for Remsima: ', sum(hospitalDfYearAndRemsimaSorted['Volume']))\n",
    "print('Pharmacy total sales btw 2010 and 2019 for Remsima: ', sum(PharmacyDfYearAndRemsimaSorted['Volume']))\n",
    "\n",
    "#Zessly\n",
    "hospitalDfYearAndZesslySorted = hospitalDfYearSorted[hospitalDfYearSorted['Product_Zessly'] == True]\n",
    "PharmacyDfYearAndZesslySorted = PharmacyDfYearSorted[PharmacyDfYearSorted['Product_Zessly'] == True]\n",
    "mergedHospitalPharmacyDfYearAndZesslySorted = pd.concat([hospitalDfYearAndZesslySorted, PharmacyDfYearAndZesslySorted], ignore_index=True)\n",
    "\n",
    "print('Hospital total sales btw 2010 and 2019 for Zessly: ', sum(hospitalDfYearAndZesslySorted['Volume']))\n",
    "print('Pharmacy total sales btw 2010 and 2019 for Zessly: ', sum(PharmacyDfYearAndZesslySorted['Volume']))\n"
   ]
  },
  {
   "cell_type": "markdown",
   "metadata": {},
   "source": [
    "#### sort data into ATC5 code L04AC05"
   ]
  },
  {
   "cell_type": "code",
   "execution_count": 12,
   "metadata": {},
   "outputs": [],
   "source": [
    "DfYearAndL04AC05SortedZessly = mergedHospitalPharmacyDfYearAndZesslySorted\n",
    "DfYearAndL04AC05SortedRemsima = mergedHospitalPharmacyDfYearAndRemsimaSorted\n",
    "DfYearAndL04AC05SortedRemicade = mergedHospitalPharmacyDfYearAndRemicadeSorted\n",
    "DfYearAndL04AC05SortedInflectra = mergedHospitalPharmacyDfYearAndInflectraSorted\n",
    "\n",
    "mergedDfYearAndL04AC05Sorted = pd.concat([DfYearAndL04AC05SortedZessly, DfYearAndL04AC05SortedRemsima, DfYearAndL04AC05SortedRemicade, DfYearAndL04AC05SortedInflectra], ignore_index=True)"
   ]
  },
  {
   "cell_type": "markdown",
   "metadata": {},
   "source": [
    "#### make dataset with product fetaure for pie chart"
   ]
  },
  {
   "cell_type": "code",
   "execution_count": 34,
   "metadata": {},
   "outputs": [
    {
     "data": {
      "text/plain": [
       "<Axes: ylabel='Volume'>"
      ]
     },
     "execution_count": 34,
     "metadata": {},
     "output_type": "execute_result"
    },
    {
     "data": {
      "image/png": "[encoded data removed]",
      "text/plain": [
       "<Figure size 720x720 with 1 Axes>"
      ]
     },
     "metadata": {},
     "output_type": "display_data"
    }
   ],
   "source": [
    "mergedHospitalPharmacyDfYearAndStelaraSorted['Product'] = 'Stelara'\n",
    "mergedHospitalPharmacyDfYearAndCimziaSorted['Product'] = 'Cimzia'\n",
    "mergedHospitalPharmacyDfYearAndInflectraSorted['Product'] = 'Inflectra'\n",
    "mergedHospitalPharmacyDfYearAndRemicadeSorted['Product'] = 'Remicade'\n",
    "mergedHospitalPharmacyDfYearAndRemsimaSorted['Product'] = 'Remsima'\n",
    "mergedHospitalPharmacyDfYearAndZesslySorted['Product'] = 'Zessly'\n",
    "\n",
    "mergedHospitalPharmacyDfYearAndSortedWithproduct = pd.concat([mergedHospitalPharmacyDfYearAndStelaraSorted, mergedHospitalPharmacyDfYearAndCimziaSorted, mergedHospitalPharmacyDfYearAndInflectraSorted, mergedHospitalPharmacyDfYearAndRemicadeSorted, mergedHospitalPharmacyDfYearAndRemsimaSorted, mergedHospitalPharmacyDfYearAndZesslySorted], ignore_index=True)\n",
    "\n",
    "colors = ['#87CEEB', '#70BFE4', '#5BAFDA', '#469FCE', '#D62728', '#2CA02C']\n",
    "\n",
    "mergedHospitalPharmacyDfYearAndSortedWithproduct.groupby(['WHO ATC 5 Code', 'Product']).sum().plot( \n",
    "    kind='pie', y='Volume', autopct='%1.0f%%', colors=colors, figsize=(10, 10))"
   ]
  },
  {
   "cell_type": "markdown",
   "metadata": {},
   "source": [
    "#### Add type column to mergedHospitalPharmacyDfYearSorted"
   ]
  },
  {
   "cell_type": "code",
   "execution_count": 14,
   "metadata": {},
   "outputs": [
    {
     "name": "stderr",
     "output_type": "stream",
     "text": [
      "<ipython-input-14-197dd41d8142>:1: SettingWithCopyWarning: \n",
      "A value is trying to be set on a copy of a slice from a DataFrame.\n",
      "Try using .loc[row_indexer,col_indexer] = value instead\n",
      "\n",
      "See the caveats in the documentation: https://pandas.pydata.org/pandas-docs/stable/user_guide/indexing.html#returning-a-view-versus-a-copy\n",
      "  hospitalDfYearSorted['Type'] = 'Hospital'\n",
      "<ipython-input-14-197dd41d8142>:2: SettingWithCopyWarning: \n",
      "A value is trying to be set on a copy of a slice from a DataFrame.\n",
      "Try using .loc[row_indexer,col_indexer] = value instead\n",
      "\n",
      "See the caveats in the documentation: https://pandas.pydata.org/pandas-docs/stable/user_guide/indexing.html#returning-a-view-versus-a-copy\n",
      "  PharmacyDfYearSorted['Type'] = 'Pharmacy'\n"
     ]
    }
   ],
   "source": [
    "hospitalDfYearSorted['Type'] = 'Hospital'\n",
    "PharmacyDfYearSorted['Type'] = 'Pharmacy'\n",
    "mergedHospitalPharmacyDfYearAndSortedWithTypes = pd.concat([hospitalDfYearSorted, PharmacyDfYearSorted], ignore_index=True)\n",
    "\n",
    "# Add the 'Type' column to the 2nd column\n",
    "cols = mergedHospitalPharmacyDfYearAndSortedWithTypes.columns.tolist()\n",
    "cols = cols[:1] + cols[-1:] + cols[1:-1]\n",
    "mergedHospitalPharmacyDfYearAndSortedWithTypes = mergedHospitalPharmacyDfYearAndSortedWithTypes[cols]"
   ]
  },
  {
   "cell_type": "markdown",
   "metadata": {},
   "source": [
    "#### Define a dataset with data only from Central Apoteket (main pharmacy next to central station)"
   ]
  },
  {
   "cell_type": "code",
   "execution_count": 15,
   "metadata": {},
   "outputs": [],
   "source": [
    "centralPharmacy = PharmacyDfYearAndStelaraSorted[PharmacyDfYearAndStelaraSorted['Account Description'].str.contains('CentralApoteket', case=False)]"
   ]
  },
  {
   "cell_type": "markdown",
   "metadata": {},
   "source": [
    "#### Draw stacked column chart of total sales of Stelara in hospitals and pharmacies btw 2010 and 2019"
   ]
  },
  {
   "cell_type": "code",
   "execution_count": 16,
   "metadata": {},
   "outputs": [
    {
     "name": "stderr",
     "output_type": "stream",
     "text": [
      "<ipython-input-16-0ad5c63c9bba>:1: SettingWithCopyWarning: \n",
      "A value is trying to be set on a copy of a slice from a DataFrame.\n",
      "Try using .loc[row_indexer,col_indexer] = value instead\n",
      "\n",
      "See the caveats in the documentation: https://pandas.pydata.org/pandas-docs/stable/user_guide/indexing.html#returning-a-view-versus-a-copy\n",
      "  hospitalDfYearAndStelaraSorted['Type'] = 'Hospitals'\n",
      "<ipython-input-16-0ad5c63c9bba>:2: SettingWithCopyWarning: \n",
      "A value is trying to be set on a copy of a slice from a DataFrame.\n",
      "Try using .loc[row_indexer,col_indexer] = value instead\n",
      "\n",
      "See the caveats in the documentation: https://pandas.pydata.org/pandas-docs/stable/user_guide/indexing.html#returning-a-view-versus-a-copy\n",
      "  PharmacyDfYearAndStelaraSorted['Type'] = 'Pharmacies'\n"
     ]
    }
   ],
   "source": [
    "hospitalDfYearAndStelaraSorted['Type'] = 'Hospitals'\n",
    "PharmacyDfYearAndStelaraSorted['Type'] = 'Pharmacies'\n",
    "mergedHospitalPharmacyDfYearAndStelaraSortedWithTypes = pd.concat([hospitalDfYearAndStelaraSorted, PharmacyDfYearAndStelaraSorted], ignore_index=True)\n",
    "\n",
    "# Pivot the data\n",
    "pivot_df_stelara = mergedHospitalPharmacyDfYearAndStelaraSortedWithTypes.pivot_table(index='Year Month (after 2000) in Datetime', columns='Type', values='Volume', aggfunc='sum').fillna(0)"
   ]
  },
  {
   "cell_type": "markdown",
   "metadata": {},
   "source": [
    "#### Draw stacked column chart of total sales of Cimzia in hospitals and pharmacies btw 2010 and 2019"
   ]
  },
  {
   "cell_type": "code",
   "execution_count": 17,
   "metadata": {},
   "outputs": [
    {
     "name": "stderr",
     "output_type": "stream",
     "text": [
      "<ipython-input-17-1e9972499e3a>:1: SettingWithCopyWarning: \n",
      "A value is trying to be set on a copy of a slice from a DataFrame.\n",
      "Try using .loc[row_indexer,col_indexer] = value instead\n",
      "\n",
      "See the caveats in the documentation: https://pandas.pydata.org/pandas-docs/stable/user_guide/indexing.html#returning-a-view-versus-a-copy\n",
      "  hospitalDfYearAndCimziaSorted['Type'] = 'Hospitals'\n",
      "<ipython-input-17-1e9972499e3a>:2: SettingWithCopyWarning: \n",
      "A value is trying to be set on a copy of a slice from a DataFrame.\n",
      "Try using .loc[row_indexer,col_indexer] = value instead\n",
      "\n",
      "See the caveats in the documentation: https://pandas.pydata.org/pandas-docs/stable/user_guide/indexing.html#returning-a-view-versus-a-copy\n",
      "  PharmacyDfYearAndCimziaSorted['Type'] = 'Pharmacies'\n"
     ]
    }
   ],
   "source": [
    "hospitalDfYearAndCimziaSorted['Type'] = 'Hospitals'\n",
    "PharmacyDfYearAndCimziaSorted['Type'] = 'Pharmacies'\n",
    "mergedHospitalPharmacyDfYearAndCimziaSortedWithTypes = pd.concat([hospitalDfYearAndCimziaSorted, PharmacyDfYearAndCimziaSorted], ignore_index=True)\n",
    "\n",
    "# Pivot the data\n",
    "pivot_df_cimzia = mergedHospitalPharmacyDfYearAndCimziaSortedWithTypes.pivot_table(index='Year Month (after 2000)', columns='Type', values='Volume', aggfunc='sum').fillna(0)"
   ]
  },
  {
   "cell_type": "markdown",
   "metadata": {},
   "source": [
    "#### Draw stacked column chart of total sales of Inflectra in hospitals and pharmacies btw 2010 and 2019"
   ]
  },
  {
   "cell_type": "code",
   "execution_count": 18,
   "metadata": {},
   "outputs": [
    {
     "name": "stderr",
     "output_type": "stream",
     "text": [
      "<ipython-input-18-b47e5b1eec83>:1: SettingWithCopyWarning: \n",
      "A value is trying to be set on a copy of a slice from a DataFrame.\n",
      "Try using .loc[row_indexer,col_indexer] = value instead\n",
      "\n",
      "See the caveats in the documentation: https://pandas.pydata.org/pandas-docs/stable/user_guide/indexing.html#returning-a-view-versus-a-copy\n",
      "  hospitalDfYearAndInflectraSorted['Type'] = 'Hospitals'\n",
      "<ipython-input-18-b47e5b1eec83>:2: SettingWithCopyWarning: \n",
      "A value is trying to be set on a copy of a slice from a DataFrame.\n",
      "Try using .loc[row_indexer,col_indexer] = value instead\n",
      "\n",
      "See the caveats in the documentation: https://pandas.pydata.org/pandas-docs/stable/user_guide/indexing.html#returning-a-view-versus-a-copy\n",
      "  PharmacyDfYearAndInflectraSorted['Type'] = 'Pharmacies'\n"
     ]
    }
   ],
   "source": [
    "hospitalDfYearAndInflectraSorted['Type'] = 'Hospitals'\n",
    "PharmacyDfYearAndInflectraSorted['Type'] = 'Pharmacies'\n",
    "mergedHospitalPharmacyDfYearAndInflectraSortedWithTypes = pd.concat([hospitalDfYearAndInflectraSorted, PharmacyDfYearAndInflectraSorted], ignore_index=True)\n",
    "\n",
    "# Pivot the data\n",
    "pivot_df_inflectra = mergedHospitalPharmacyDfYearAndInflectraSortedWithTypes.pivot_table(index='Year Month (after 2000)', columns='Type', values='Volume', aggfunc='sum').fillna(0)"
   ]
  },
  {
   "cell_type": "markdown",
   "metadata": {},
   "source": [
    "#### Draw stacked column chart of total sales of Remicade in hospitals and pharmacies btw 2010 and 2019"
   ]
  },
  {
   "cell_type": "code",
   "execution_count": 19,
   "metadata": {},
   "outputs": [
    {
     "name": "stderr",
     "output_type": "stream",
     "text": [
      "<ipython-input-19-3943842d5f15>:1: SettingWithCopyWarning: \n",
      "A value is trying to be set on a copy of a slice from a DataFrame.\n",
      "Try using .loc[row_indexer,col_indexer] = value instead\n",
      "\n",
      "See the caveats in the documentation: https://pandas.pydata.org/pandas-docs/stable/user_guide/indexing.html#returning-a-view-versus-a-copy\n",
      "  hospitalDfYearAndRemicadeSorted['Type'] = 'Hospitals'\n",
      "<ipython-input-19-3943842d5f15>:2: SettingWithCopyWarning: \n",
      "A value is trying to be set on a copy of a slice from a DataFrame.\n",
      "Try using .loc[row_indexer,col_indexer] = value instead\n",
      "\n",
      "See the caveats in the documentation: https://pandas.pydata.org/pandas-docs/stable/user_guide/indexing.html#returning-a-view-versus-a-copy\n",
      "  PharmacyDfYearAndRemicadeSorted['Type'] = 'Pharmacies'\n"
     ]
    }
   ],
   "source": [
    "hospitalDfYearAndRemicadeSorted['Type'] = 'Hospitals'\n",
    "PharmacyDfYearAndRemicadeSorted['Type'] = 'Pharmacies'\n",
    "mergedHospitalPharmacyDfYearAndRemicadeSortedWithTypes = pd.concat([hospitalDfYearAndRemicadeSorted, PharmacyDfYearAndRemicadeSorted], ignore_index=True)\n",
    "\n",
    "# Pivot the data\n",
    "pivot_df_remicade = mergedHospitalPharmacyDfYearAndRemicadeSortedWithTypes.pivot_table(index='Year Month (after 2000)', columns='Type', values='Volume', aggfunc='sum').fillna(0)"
   ]
  },
  {
   "cell_type": "markdown",
   "metadata": {},
   "source": [
    "#### Draw stacked column chart of total sales of Remsima in hospitals and pharmacies btw 2010 and 2019"
   ]
  },
  {
   "cell_type": "code",
   "execution_count": 20,
   "metadata": {},
   "outputs": [
    {
     "name": "stderr",
     "output_type": "stream",
     "text": [
      "<ipython-input-20-9f0b34494362>:1: SettingWithCopyWarning: \n",
      "A value is trying to be set on a copy of a slice from a DataFrame.\n",
      "Try using .loc[row_indexer,col_indexer] = value instead\n",
      "\n",
      "See the caveats in the documentation: https://pandas.pydata.org/pandas-docs/stable/user_guide/indexing.html#returning-a-view-versus-a-copy\n",
      "  hospitalDfYearAndRemsimaSorted['Type'] = 'Hospitals'\n",
      "<ipython-input-20-9f0b34494362>:2: SettingWithCopyWarning: \n",
      "A value is trying to be set on a copy of a slice from a DataFrame.\n",
      "Try using .loc[row_indexer,col_indexer] = value instead\n",
      "\n",
      "See the caveats in the documentation: https://pandas.pydata.org/pandas-docs/stable/user_guide/indexing.html#returning-a-view-versus-a-copy\n",
      "  PharmacyDfYearAndRemsimaSorted['Type'] = 'Pharmacies'\n"
     ]
    }
   ],
   "source": [
    "hospitalDfYearAndRemsimaSorted['Type'] = 'Hospitals'\n",
    "PharmacyDfYearAndRemsimaSorted['Type'] = 'Pharmacies'\n",
    "mergedHospitalPharmacyDfYearAndRemsimaSortedWithTypes = pd.concat([hospitalDfYearAndRemsimaSorted, PharmacyDfYearAndRemsimaSorted], ignore_index=True)\n",
    "\n",
    "# Pivot the data\n",
    "pivot_df_remsima = mergedHospitalPharmacyDfYearAndRemsimaSortedWithTypes.pivot_table(index='Year Month (after 2000)', columns='Type', values='Volume', aggfunc='sum').fillna(0)"
   ]
  },
  {
   "cell_type": "markdown",
   "metadata": {},
   "source": [
    "#### Draw stacked column chart of total sales of Zessly in hospitals and pharmacies btw 2010 and 2019"
   ]
  },
  {
   "cell_type": "code",
   "execution_count": 21,
   "metadata": {},
   "outputs": [
    {
     "name": "stderr",
     "output_type": "stream",
     "text": [
      "<ipython-input-21-39bcd93ae6ad>:1: SettingWithCopyWarning: \n",
      "A value is trying to be set on a copy of a slice from a DataFrame.\n",
      "Try using .loc[row_indexer,col_indexer] = value instead\n",
      "\n",
      "See the caveats in the documentation: https://pandas.pydata.org/pandas-docs/stable/user_guide/indexing.html#returning-a-view-versus-a-copy\n",
      "  hospitalDfYearAndZesslySorted['Type'] = 'Hospitals'\n",
      "<ipython-input-21-39bcd93ae6ad>:2: SettingWithCopyWarning: \n",
      "A value is trying to be set on a copy of a slice from a DataFrame.\n",
      "Try using .loc[row_indexer,col_indexer] = value instead\n",
      "\n",
      "See the caveats in the documentation: https://pandas.pydata.org/pandas-docs/stable/user_guide/indexing.html#returning-a-view-versus-a-copy\n",
      "  PharmacyDfYearAndZesslySorted['Type'] = 'Pharmacies'\n"
     ]
    }
   ],
   "source": [
    "hospitalDfYearAndZesslySorted['Type'] = 'Hospitals'\n",
    "PharmacyDfYearAndZesslySorted['Type'] = 'Pharmacies'\n",
    "mergedHospitalPharmacyDfYearAndZesslySortedWithTypes = pd.concat([hospitalDfYearAndZesslySorted, PharmacyDfYearAndZesslySorted], ignore_index=True)\n",
    "\n",
    "# Pivot the data\n",
    "pivot_df_zessly = mergedHospitalPharmacyDfYearAndZesslySortedWithTypes.pivot_table(index='Year Month (after 2000)', columns='Type', values='Volume', aggfunc='sum').fillna(0)"
   ]
  },
  {
   "cell_type": "markdown",
   "metadata": {},
   "source": [
    "#### Draw stacked column chart of total sales of L04AC05 in hospitals and pharmacies btw 2010 and 2019"
   ]
  },
  {
   "cell_type": "code",
   "execution_count": 22,
   "metadata": {},
   "outputs": [],
   "source": [
    "DfYearAndL04AC05SortedZessly['Type'] = 'Zessly'\n",
    "DfYearAndL04AC05SortedRemsima['Type'] = 'Remsima'\n",
    "DfYearAndL04AC05SortedRemicade['Type'] = 'Remicade'\n",
    "DfYearAndL04AC05SortedInflectra['Type'] = 'Indlectra'\n",
    "DfYearAndL04AC05SortedWithTypes = pd.concat([DfYearAndL04AC05SortedZessly, DfYearAndL04AC05SortedInflectra, DfYearAndL04AC05SortedRemsima, DfYearAndL04AC05SortedRemicade], ignore_index=True)"
   ]
  },
  {
   "cell_type": "markdown",
   "metadata": {},
   "source": [
    "#### Draw scatter, line, bubble, or combo plot to show relationship between sold stelara over time between 2010 and 2019 in central pharmacy"
   ]
  },
  {
   "cell_type": "code",
   "execution_count": 23,
   "metadata": {},
   "outputs": [
    {
     "name": "stdout",
     "output_type": "stream",
     "text": [
      "    Year Month (after 2000) in Datetime  Volume\n",
      "0                               2010-05    12.0\n",
      "1                               2010-06    22.0\n",
      "2                               2010-07    16.0\n",
      "3                               2010-08    12.0\n",
      "4                               2010-09    24.0\n",
      "..                                  ...     ...\n",
      "110                             2019-08    90.0\n",
      "111                             2019-09    51.0\n",
      "112                             2019-10    64.0\n",
      "113                             2019-11    78.0\n",
      "114                             2019-12   113.0\n",
      "\n",
      "[115 rows x 2 columns]\n"
     ]
    }
   ],
   "source": [
    "# Group the data by 'Year Month (after 2000)' and calculate the median of 'Value'\n",
    "meanValaues = centralPharmacy.groupby('Year Month (after 2000) in Datetime')['Volume'].mean().round().reset_index()\n",
    "\n",
    "# convert 'Year Month (after 2000)' and median_values to int\n",
    "print(meanValaues)"
   ]
  },
  {
   "cell_type": "markdown",
   "metadata": {},
   "source": [
    "#### Show correlation between Volume and other feeatures"
   ]
  },
  {
   "cell_type": "code",
   "execution_count": 24,
   "metadata": {},
   "outputs": [
    {
     "name": "stdout",
     "output_type": "stream",
     "text": [
      "18\n"
     ]
    }
   ],
   "source": [
    "m = hospitalPharmacyDf.drop('Account Description', axis=1)\n",
    "m2 = m.drop('Size', axis=1)\n",
    "m2 = m2.drop('Year Month (after 2000) in Datetime', axis=1)\n",
    "\n",
    "atcs = m2['WHO ATC 5 Code'].unique()\n",
    "\n",
    "# Convert each unique value in 'WHO ATC 5 Code' to an int between 0 and 2\n",
    "m2['WHO ATC 5 Code'] = m2['WHO ATC 5 Code'].apply(lambda x: np.where(atcs == x)[0][0])\n",
    "\n",
    "# Also convert all true false values to 1 and 0 in these columns: Region_Hovedstaden\tRegion_Midtjylland\tRegion_Nordjylland\tRegion_Sjælland\tRegion_Syddanmark\tProduct_Cimzia\tProduct_Inflectra\tProduct_Remicade\tProduct_Remsima\tProduct_Stelara\tProduct_Zessly\n",
    "m2['Region_Hovedstaden'] = m2['Region_Hovedstaden'].astype(int)\n",
    "m2['Region_Midtjylland'] = m2['Region_Midtjylland'].astype(int)\n",
    "m2['Region_Nordjylland'] = m2['Region_Nordjylland'].astype(int)\n",
    "m2['Region_Sjælland'] = m2['Region_Sjælland'].astype(int)\n",
    "m2['Region_Syddanmark'] = m2['Region_Syddanmark'].astype(int)\n",
    "m2['Product_Cimzia'] = m2['Product_Cimzia'].astype(int)\n",
    "m2['Product_Inflectra'] = m2['Product_Inflectra'].astype(int)\n",
    "m2['Product_Remicade'] = m2['Product_Remicade'].astype(int)\n",
    "m2['Product_Remsima'] = m2['Product_Remsima'].astype(int)\n",
    "m2['Product_Stelara'] = m2['Product_Stelara'].astype(int)\n",
    "m2['Product_Zessly'] = m2['Product_Zessly'].astype(int)\n",
    "\n",
    "m2\n",
    "\n",
    "print(len(m2.columns))"
   ]
  }
 ],
 "metadata": {
  "kernelspec": {
   "display_name": "Python 3",
   "language": "python",
   "name": "python3"
  },
  "language_info": {
   "codemirror_mode": {
    "name": "ipython",
    "version": 3
   },
   "file_extension": ".py",
   "mimetype": "text/x-python",
   "name": "python",
   "nbconvert_exporter": "python",
   "pygments_lexer": "ipython3",
   "version": "3.8.12"
  }
 },
 "nbformat": 4,
 "nbformat_minor": 2
}
