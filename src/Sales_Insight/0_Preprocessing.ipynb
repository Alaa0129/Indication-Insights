{
 "cells": [
  {
   "cell_type": "markdown",
   "metadata": {},
   "source": [
    "## Relevant libraries and methods"
   ]
  },
  {
   "cell_type": "code",
   "execution_count": 65,
   "metadata": {},
   "outputs": [],
   "source": [
    "import os\n",
    "import glob\n",
    "\n",
    "# Data handling and manipulation library\n",
    "import pandas as pd\n",
    "import numpy as np\n",
    "import seaborn as sns\n",
    "import matplotlib.pyplot as plt\n",
    "\n",
    "# Set print options\n",
    "pd.set_option('display.max_columns', None)"
   ]
  },
  {
   "cell_type": "code",
   "execution_count": 66,
   "metadata": {},
   "outputs": [
    {
     "name": "stderr",
     "output_type": "stream",
     "text": [
      "<>:1: SyntaxWarning: invalid escape sequence '\\s'\n",
      "<>:2: SyntaxWarning: invalid escape sequence '\\s'\n",
      "<>:1: SyntaxWarning: invalid escape sequence '\\s'\n",
      "<>:2: SyntaxWarning: invalid escape sequence '\\s'\n",
      "C:\\Users\\Josef\\AppData\\Local\\Temp\\ipykernel_20560\\2386274991.py:1: SyntaxWarning: invalid escape sequence '\\s'\n",
      "  pharDf = pd.read_csv('data_processed\\sales_insights_pharmacy_cleaned.csv', delimiter=',')\n",
      "C:\\Users\\Josef\\AppData\\Local\\Temp\\ipykernel_20560\\2386274991.py:2: SyntaxWarning: invalid escape sequence '\\s'\n",
      "  hospDf = pd.read_csv('data_processed\\sales_insights_hospital_cleaned.csv', delimiter=',')\n"
     ]
    }
   ],
   "source": [
    "pharDf = pd.read_csv('data_processed\\sales_insights_pharmacy_cleaned.csv', delimiter=',')\n",
    "hospDf = pd.read_csv('data_processed\\sales_insights_hospital_cleaned.csv', delimiter=',')"
   ]
  },
  {
   "cell_type": "code",
   "execution_count": 67,
   "metadata": {},
   "outputs": [
    {
     "name": "stdout",
     "output_type": "stream",
     "text": [
      "7282\n",
      "4724\n",
      "Index(['Account Description', 'Size', 'Size Numeric', 'Strength (mg)',\n",
      "       'WHO ATC 5 Code', 'Volume', 'Value', 'Year Month (after 2000)',\n",
      "       'Year (after 2000)', 'Month', 'Region_Færøerne', 'Region_Hovedstaden',\n",
      "       'Region_Midtjylland', 'Region_Nordjylland', 'Region_Sjælland',\n",
      "       'Region_Syddanmark', 'Product_Cimzia', 'Product_Inflectra',\n",
      "       'Product_Remicade', 'Product_Remsima', 'Product_Stelara',\n",
      "       'Product_Zessly'],\n",
      "      dtype='object')\n",
      "Index(['Account Description', 'Size', 'Size Numeric', 'Strength (mg)',\n",
      "       'WHO ATC 5 Code', 'Volume', 'Value', 'Year Month (after 2000)',\n",
      "       'Year (after 2000)', 'Month', 'Region_Hovedstaden',\n",
      "       'Region_Midtjylland', 'Region_Nordjylland', 'Region_Sjælland',\n",
      "       'Region_Syddanmark', 'Product_Cimzia', 'Product_Inflectra',\n",
      "       'Product_Remicade', 'Product_Remsima', 'Product_Stelara',\n",
      "       'Product_Zessly'],\n",
      "      dtype='object')\n"
     ]
    }
   ],
   "source": [
    "print(len(pharDf))\n",
    "print(len(hospDf))\n",
    "print(pharDf.columns)\n",
    "print(hospDf.columns)"
   ]
  },
  {
   "cell_type": "markdown",
   "metadata": {},
   "source": [
    "#### Merge datasets phar and hosp insights and remove unwanted columns + duplicates"
   ]
  },
  {
   "cell_type": "code",
   "execution_count": 68,
   "metadata": {},
   "outputs": [
    {
     "name": "stdout",
     "output_type": "stream",
     "text": [
      "7282\n"
     ]
    }
   ],
   "source": [
    "# Merge the two datasets together\n",
    "merged_df = pd.concat([pharDf, hospDf], ignore_index=True)\n",
    "\n",
    "# remove the column 'Region_Færøerne'\n",
    "merged_df = merged_df.drop(columns=['Region_Færøerne'])\n",
    "\n",
    "# drop duplicates in pharmacy_df\n",
    "merged_df_no_Dups = merged_df.drop_duplicates()\n",
    "\n",
    "# convert the float to int in column 'Year Month (after 2000)'.\n",
    "# merged_df_no_Dups['Year Month (after 2000)'] = merged_df_no_Dups['Year Month (after 2000)'].astype(int)\n",
    "\n",
    "print(len(merged_df_no_Dups))"
   ]
  },
  {
   "cell_type": "markdown",
   "metadata": {},
   "source": [
    "#### Divide the dataset into two subdatasets: Hospital and Pharmacy"
   ]
  },
  {
   "cell_type": "code",
   "execution_count": 69,
   "metadata": {},
   "outputs": [
    {
     "name": "stdout",
     "output_type": "stream",
     "text": [
      "1135\n",
      "3757\n",
      "2390\n"
     ]
    }
   ],
   "source": [
    "hospitalDf = merged_df_no_Dups[~merged_df_no_Dups['Account Description'].str.contains('Apotek', case=False) & ~merged_df_no_Dups['Account Description'].str.contains('fyrkilden', case=False)]\n",
    "pharmacyDf = merged_df_no_Dups[(merged_df_no_Dups['Account Description'].str.contains('Apotek', case=False) | merged_df_no_Dups['Account Description'].str.contains('fyrkilden', case=False)) & ~merged_df_no_Dups['Account Description'].str.contains('Sygehus', case=False)]\n",
    "sickHouseDf = merged_df_no_Dups[merged_df_no_Dups['Account Description'].str.contains('Sygehus', case=False)]\n",
    "\n",
    "print(len(hospitalDf))\n",
    "print(len(pharmacyDf))\n",
    "print(len(sickHouseDf))"
   ]
  },
  {
   "cell_type": "markdown",
   "metadata": {},
   "source": [
    "#### Convert Year Month to datetime object and remove year column"
   ]
  },
  {
   "cell_type": "code",
   "execution_count": 70,
   "metadata": {},
   "outputs": [
    {
     "name": "stderr",
     "output_type": "stream",
     "text": [
      "C:\\Users\\Josef\\AppData\\Local\\Temp\\ipykernel_20560\\1816753368.py:2: SettingWithCopyWarning: \n",
      "A value is trying to be set on a copy of a slice from a DataFrame.\n",
      "Try using .loc[row_indexer,col_indexer] = value instead\n",
      "\n",
      "See the caveats in the documentation: https://pandas.pydata.org/pandas-docs/stable/user_guide/indexing.html#returning-a-view-versus-a-copy\n",
      "  hospitalDf['Year Month (after 2000) in Datetime'] = pd.to_datetime(hospitalDf['Year Month (after 2000)'].astype(int).astype(str), format='%y%m')\n",
      "C:\\Users\\Josef\\AppData\\Local\\Temp\\ipykernel_20560\\1816753368.py:3: SettingWithCopyWarning: \n",
      "A value is trying to be set on a copy of a slice from a DataFrame.\n",
      "Try using .loc[row_indexer,col_indexer] = value instead\n",
      "\n",
      "See the caveats in the documentation: https://pandas.pydata.org/pandas-docs/stable/user_guide/indexing.html#returning-a-view-versus-a-copy\n",
      "  pharmacyDf['Year Month (after 2000) in Datetime'] = pd.to_datetime(pharmacyDf['Year Month (after 2000)'].astype(int).astype(str), format='%y%m')\n",
      "C:\\Users\\Josef\\AppData\\Local\\Temp\\ipykernel_20560\\1816753368.py:4: SettingWithCopyWarning: \n",
      "A value is trying to be set on a copy of a slice from a DataFrame.\n",
      "Try using .loc[row_indexer,col_indexer] = value instead\n",
      "\n",
      "See the caveats in the documentation: https://pandas.pydata.org/pandas-docs/stable/user_guide/indexing.html#returning-a-view-versus-a-copy\n",
      "  sickHouseDf['Year Month (after 2000) in Datetime'] = pd.to_datetime(sickHouseDf['Year Month (after 2000)'].astype(int).astype(str), format='%y%m')\n",
      "C:\\Users\\Josef\\AppData\\Local\\Temp\\ipykernel_20560\\1816753368.py:7: SettingWithCopyWarning: \n",
      "A value is trying to be set on a copy of a slice from a DataFrame.\n",
      "Try using .loc[row_indexer,col_indexer] = value instead\n",
      "\n",
      "See the caveats in the documentation: https://pandas.pydata.org/pandas-docs/stable/user_guide/indexing.html#returning-a-view-versus-a-copy\n",
      "  hospitalDf['Year Month (after 2000) in Datetime'] = hospitalDf['Year Month (after 2000) in Datetime'].dt.to_period('M')\n",
      "C:\\Users\\Josef\\AppData\\Local\\Temp\\ipykernel_20560\\1816753368.py:8: SettingWithCopyWarning: \n",
      "A value is trying to be set on a copy of a slice from a DataFrame.\n",
      "Try using .loc[row_indexer,col_indexer] = value instead\n",
      "\n",
      "See the caveats in the documentation: https://pandas.pydata.org/pandas-docs/stable/user_guide/indexing.html#returning-a-view-versus-a-copy\n",
      "  pharmacyDf['Year Month (after 2000) in Datetime'] = pharmacyDf['Year Month (after 2000) in Datetime'].dt.to_period('M')\n",
      "C:\\Users\\Josef\\AppData\\Local\\Temp\\ipykernel_20560\\1816753368.py:9: SettingWithCopyWarning: \n",
      "A value is trying to be set on a copy of a slice from a DataFrame.\n",
      "Try using .loc[row_indexer,col_indexer] = value instead\n",
      "\n",
      "See the caveats in the documentation: https://pandas.pydata.org/pandas-docs/stable/user_guide/indexing.html#returning-a-view-versus-a-copy\n",
      "  sickHouseDf['Year Month (after 2000) in Datetime'] = sickHouseDf['Year Month (after 2000) in Datetime'].dt.to_period('M')\n",
      "C:\\Users\\Josef\\AppData\\Local\\Temp\\ipykernel_20560\\1816753368.py:12: SettingWithCopyWarning: \n",
      "A value is trying to be set on a copy of a slice from a DataFrame.\n",
      "Try using .loc[row_indexer,col_indexer] = value instead\n",
      "\n",
      "See the caveats in the documentation: https://pandas.pydata.org/pandas-docs/stable/user_guide/indexing.html#returning-a-view-versus-a-copy\n",
      "  hospitalDf['Year Month (after 2000) in Datetime'] = hospitalDf['Year Month (after 2000) in Datetime'].astype(str)\n",
      "C:\\Users\\Josef\\AppData\\Local\\Temp\\ipykernel_20560\\1816753368.py:13: SettingWithCopyWarning: \n",
      "A value is trying to be set on a copy of a slice from a DataFrame.\n",
      "Try using .loc[row_indexer,col_indexer] = value instead\n",
      "\n",
      "See the caveats in the documentation: https://pandas.pydata.org/pandas-docs/stable/user_guide/indexing.html#returning-a-view-versus-a-copy\n",
      "  pharmacyDf['Year Month (after 2000) in Datetime'] = pharmacyDf['Year Month (after 2000) in Datetime'].astype(str)\n",
      "C:\\Users\\Josef\\AppData\\Local\\Temp\\ipykernel_20560\\1816753368.py:14: SettingWithCopyWarning: \n",
      "A value is trying to be set on a copy of a slice from a DataFrame.\n",
      "Try using .loc[row_indexer,col_indexer] = value instead\n",
      "\n",
      "See the caveats in the documentation: https://pandas.pydata.org/pandas-docs/stable/user_guide/indexing.html#returning-a-view-versus-a-copy\n",
      "  sickHouseDf['Year Month (after 2000) in Datetime'] = sickHouseDf['Year Month (after 2000) in Datetime'].astype(str)\n"
     ]
    }
   ],
   "source": [
    "# Convert the 'Year Month (after 2000)' column to a datetime\n",
    "hospitalDf['Year Month (after 2000) in Datetime'] = pd.to_datetime(hospitalDf['Year Month (after 2000)'].astype(int).astype(str), format='%y%m')\n",
    "pharmacyDf['Year Month (after 2000) in Datetime'] = pd.to_datetime(pharmacyDf['Year Month (after 2000)'].astype(int).astype(str), format='%y%m')\n",
    "sickHouseDf['Year Month (after 2000) in Datetime'] = pd.to_datetime(sickHouseDf['Year Month (after 2000)'].astype(int).astype(str), format='%y%m')\n",
    "\n",
    "# Remove time from the datetime object\n",
    "hospitalDf['Year Month (after 2000) in Datetime'] = hospitalDf['Year Month (after 2000) in Datetime'].dt.to_period('M')\n",
    "pharmacyDf['Year Month (after 2000) in Datetime'] = pharmacyDf['Year Month (after 2000) in Datetime'].dt.to_period('M')\n",
    "sickHouseDf['Year Month (after 2000) in Datetime'] = sickHouseDf['Year Month (after 2000) in Datetime'].dt.to_period('M')\n",
    "\n",
    "# Convert the date object to a string\n",
    "hospitalDf['Year Month (after 2000) in Datetime'] = hospitalDf['Year Month (after 2000) in Datetime'].astype(str)\n",
    "pharmacyDf['Year Month (after 2000) in Datetime'] = pharmacyDf['Year Month (after 2000) in Datetime'].astype(str)\n",
    "sickHouseDf['Year Month (after 2000) in Datetime'] = sickHouseDf['Year Month (after 2000) in Datetime'].astype(str)\n",
    "\n",
    "# Add the 'Year Month (after 2000) in Datetime' column to the 8th column\n",
    "cols = hospitalDf.columns.tolist()\n",
    "cols = cols[:8] + cols[-1:] + cols[8:-1]\n",
    "hospitalDf = hospitalDf[cols]\n",
    "pharmacyDf = pharmacyDf[cols]\n",
    "sickHouseDf = sickHouseDf[cols]\n",
    "\n",
    "# drop the 'Year (after 2000)' column\n",
    "hospitalDf = hospitalDf.drop(columns=['Year (after 2000)'])\n",
    "pharmacyDf = pharmacyDf.drop(columns=['Year (after 2000)'])\n",
    "sickHouseDf = sickHouseDf.drop(columns=['Year (after 2000)'])\n",
    "\n",
    "# drop the 'month' column\n",
    "hospitalDf = hospitalDf.drop(columns=['Month'])\n",
    "pharmacyDf = pharmacyDf.drop(columns=['Month'])\n",
    "sickHouseDf = sickHouseDf.drop(columns=['Month'])"
   ]
  },
  {
   "cell_type": "markdown",
   "metadata": {},
   "source": [
    "#### Add new Account Description ID Column"
   ]
  },
  {
   "cell_type": "code",
   "execution_count": 71,
   "metadata": {},
   "outputs": [
    {
     "data": {
      "text/html": [
       "<div>\n",
       "<style scoped>\n",
       "    .dataframe tbody tr th:only-of-type {\n",
       "        vertical-align: middle;\n",
       "    }\n",
       "\n",
       "    .dataframe tbody tr th {\n",
       "        vertical-align: top;\n",
       "    }\n",
       "\n",
       "    .dataframe thead th {\n",
       "        text-align: right;\n",
       "    }\n",
       "</style>\n",
       "<table border=\"1\" class=\"dataframe\">\n",
       "  <thead>\n",
       "    <tr style=\"text-align: right;\">\n",
       "      <th></th>\n",
       "      <th>Account Description ID</th>\n",
       "      <th>Account Description</th>\n",
       "      <th>Size</th>\n",
       "      <th>Size Numeric</th>\n",
       "      <th>Strength (mg)</th>\n",
       "      <th>WHO ATC 5 Code</th>\n",
       "      <th>Volume</th>\n",
       "      <th>Value</th>\n",
       "      <th>Year Month (after 2000)</th>\n",
       "      <th>Year Month (after 2000) in Datetime</th>\n",
       "      <th>Region_Hovedstaden</th>\n",
       "      <th>Region_Midtjylland</th>\n",
       "      <th>Region_Nordjylland</th>\n",
       "      <th>Region_Sjælland</th>\n",
       "      <th>Region_Syddanmark</th>\n",
       "      <th>Product_Cimzia</th>\n",
       "      <th>Product_Inflectra</th>\n",
       "      <th>Product_Remicade</th>\n",
       "      <th>Product_Remsima</th>\n",
       "      <th>Product_Stelara</th>\n",
       "      <th>Product_Zessly</th>\n",
       "    </tr>\n",
       "  </thead>\n",
       "  <tbody>\n",
       "    <tr>\n",
       "      <th>0</th>\n",
       "      <td>0</td>\n",
       "      <td>4070 Sjællands Universitetshospital. Roskilde</td>\n",
       "      <td>1 htgl. a 100 mg</td>\n",
       "      <td>100.0</td>\n",
       "      <td>100.0</td>\n",
       "      <td>L04AB02</td>\n",
       "      <td>238.0</td>\n",
       "      <td>1048818.40</td>\n",
       "      <td>1001.0</td>\n",
       "      <td>2010-01</td>\n",
       "      <td>False</td>\n",
       "      <td>False</td>\n",
       "      <td>False</td>\n",
       "      <td>True</td>\n",
       "      <td>False</td>\n",
       "      <td>False</td>\n",
       "      <td>False</td>\n",
       "      <td>True</td>\n",
       "      <td>False</td>\n",
       "      <td>False</td>\n",
       "      <td>False</td>\n",
       "    </tr>\n",
       "    <tr>\n",
       "      <th>1</th>\n",
       "      <td>0</td>\n",
       "      <td>4070 Sjællands Universitetshospital. Roskilde</td>\n",
       "      <td>1 htgl. a 100 mg</td>\n",
       "      <td>100.0</td>\n",
       "      <td>100.0</td>\n",
       "      <td>L04AB02</td>\n",
       "      <td>206.0</td>\n",
       "      <td>907800.80</td>\n",
       "      <td>1002.0</td>\n",
       "      <td>2010-02</td>\n",
       "      <td>False</td>\n",
       "      <td>False</td>\n",
       "      <td>False</td>\n",
       "      <td>True</td>\n",
       "      <td>False</td>\n",
       "      <td>False</td>\n",
       "      <td>False</td>\n",
       "      <td>True</td>\n",
       "      <td>False</td>\n",
       "      <td>False</td>\n",
       "      <td>False</td>\n",
       "    </tr>\n",
       "    <tr>\n",
       "      <th>2</th>\n",
       "      <td>0</td>\n",
       "      <td>4070 Sjællands Universitetshospital. Roskilde</td>\n",
       "      <td>2 stk.</td>\n",
       "      <td>2.0</td>\n",
       "      <td>200.0</td>\n",
       "      <td>L04AB05</td>\n",
       "      <td>8.0</td>\n",
       "      <td>64668.40</td>\n",
       "      <td>1003.0</td>\n",
       "      <td>2010-03</td>\n",
       "      <td>False</td>\n",
       "      <td>False</td>\n",
       "      <td>False</td>\n",
       "      <td>True</td>\n",
       "      <td>False</td>\n",
       "      <td>True</td>\n",
       "      <td>False</td>\n",
       "      <td>False</td>\n",
       "      <td>False</td>\n",
       "      <td>False</td>\n",
       "      <td>False</td>\n",
       "    </tr>\n",
       "    <tr>\n",
       "      <th>3</th>\n",
       "      <td>0</td>\n",
       "      <td>4070 Sjællands Universitetshospital. Roskilde</td>\n",
       "      <td>1 htgl. a 100 mg</td>\n",
       "      <td>100.0</td>\n",
       "      <td>100.0</td>\n",
       "      <td>L04AB02</td>\n",
       "      <td>350.0</td>\n",
       "      <td>1542380.00</td>\n",
       "      <td>1003.0</td>\n",
       "      <td>2010-03</td>\n",
       "      <td>False</td>\n",
       "      <td>False</td>\n",
       "      <td>False</td>\n",
       "      <td>True</td>\n",
       "      <td>False</td>\n",
       "      <td>False</td>\n",
       "      <td>False</td>\n",
       "      <td>True</td>\n",
       "      <td>False</td>\n",
       "      <td>False</td>\n",
       "      <td>False</td>\n",
       "    </tr>\n",
       "    <tr>\n",
       "      <th>4</th>\n",
       "      <td>0</td>\n",
       "      <td>4070 Sjællands Universitetshospital. Roskilde</td>\n",
       "      <td>2 stk.</td>\n",
       "      <td>2.0</td>\n",
       "      <td>200.0</td>\n",
       "      <td>L04AB05</td>\n",
       "      <td>18.0</td>\n",
       "      <td>145503.90</td>\n",
       "      <td>1004.0</td>\n",
       "      <td>2010-04</td>\n",
       "      <td>False</td>\n",
       "      <td>False</td>\n",
       "      <td>False</td>\n",
       "      <td>True</td>\n",
       "      <td>False</td>\n",
       "      <td>True</td>\n",
       "      <td>False</td>\n",
       "      <td>False</td>\n",
       "      <td>False</td>\n",
       "      <td>False</td>\n",
       "      <td>False</td>\n",
       "    </tr>\n",
       "    <tr>\n",
       "      <th>...</th>\n",
       "      <td>...</td>\n",
       "      <td>...</td>\n",
       "      <td>...</td>\n",
       "      <td>...</td>\n",
       "      <td>...</td>\n",
       "      <td>...</td>\n",
       "      <td>...</td>\n",
       "      <td>...</td>\n",
       "      <td>...</td>\n",
       "      <td>...</td>\n",
       "      <td>...</td>\n",
       "      <td>...</td>\n",
       "      <td>...</td>\n",
       "      <td>...</td>\n",
       "      <td>...</td>\n",
       "      <td>...</td>\n",
       "      <td>...</td>\n",
       "      <td>...</td>\n",
       "      <td>...</td>\n",
       "      <td>...</td>\n",
       "      <td>...</td>\n",
       "    </tr>\n",
       "    <tr>\n",
       "      <th>7277</th>\n",
       "      <td>1010</td>\n",
       "      <td>4398 Viborg Sygehus. apoteket</td>\n",
       "      <td>1 htgl.</td>\n",
       "      <td>1.0</td>\n",
       "      <td>100.0</td>\n",
       "      <td>L04AB02</td>\n",
       "      <td>472.0</td>\n",
       "      <td>2028009.36</td>\n",
       "      <td>1310.0</td>\n",
       "      <td>2013-10</td>\n",
       "      <td>False</td>\n",
       "      <td>True</td>\n",
       "      <td>False</td>\n",
       "      <td>False</td>\n",
       "      <td>False</td>\n",
       "      <td>False</td>\n",
       "      <td>False</td>\n",
       "      <td>True</td>\n",
       "      <td>False</td>\n",
       "      <td>False</td>\n",
       "      <td>False</td>\n",
       "    </tr>\n",
       "    <tr>\n",
       "      <th>7278</th>\n",
       "      <td>1010</td>\n",
       "      <td>4398 Viborg Sygehus. apoteket</td>\n",
       "      <td>2 stk.</td>\n",
       "      <td>2.0</td>\n",
       "      <td>200.0</td>\n",
       "      <td>L04AB05</td>\n",
       "      <td>45.0</td>\n",
       "      <td>354665.70</td>\n",
       "      <td>1311.0</td>\n",
       "      <td>2013-11</td>\n",
       "      <td>False</td>\n",
       "      <td>True</td>\n",
       "      <td>False</td>\n",
       "      <td>False</td>\n",
       "      <td>False</td>\n",
       "      <td>True</td>\n",
       "      <td>False</td>\n",
       "      <td>False</td>\n",
       "      <td>False</td>\n",
       "      <td>False</td>\n",
       "      <td>False</td>\n",
       "    </tr>\n",
       "    <tr>\n",
       "      <th>7279</th>\n",
       "      <td>1010</td>\n",
       "      <td>4398 Viborg Sygehus. apoteket</td>\n",
       "      <td>1 htgl.</td>\n",
       "      <td>1.0</td>\n",
       "      <td>100.0</td>\n",
       "      <td>L04AB02</td>\n",
       "      <td>410.0</td>\n",
       "      <td>1761618.30</td>\n",
       "      <td>1311.0</td>\n",
       "      <td>2013-11</td>\n",
       "      <td>False</td>\n",
       "      <td>True</td>\n",
       "      <td>False</td>\n",
       "      <td>False</td>\n",
       "      <td>False</td>\n",
       "      <td>False</td>\n",
       "      <td>False</td>\n",
       "      <td>True</td>\n",
       "      <td>False</td>\n",
       "      <td>False</td>\n",
       "      <td>False</td>\n",
       "    </tr>\n",
       "    <tr>\n",
       "      <th>7280</th>\n",
       "      <td>1010</td>\n",
       "      <td>4398 Viborg Sygehus. apoteket</td>\n",
       "      <td>2 stk.</td>\n",
       "      <td>2.0</td>\n",
       "      <td>200.0</td>\n",
       "      <td>L04AB05</td>\n",
       "      <td>52.0</td>\n",
       "      <td>409835.92</td>\n",
       "      <td>1312.0</td>\n",
       "      <td>2013-12</td>\n",
       "      <td>False</td>\n",
       "      <td>True</td>\n",
       "      <td>False</td>\n",
       "      <td>False</td>\n",
       "      <td>False</td>\n",
       "      <td>True</td>\n",
       "      <td>False</td>\n",
       "      <td>False</td>\n",
       "      <td>False</td>\n",
       "      <td>False</td>\n",
       "      <td>False</td>\n",
       "    </tr>\n",
       "    <tr>\n",
       "      <th>7281</th>\n",
       "      <td>1010</td>\n",
       "      <td>4398 Viborg Sygehus. apoteket</td>\n",
       "      <td>1 htgl.</td>\n",
       "      <td>1.0</td>\n",
       "      <td>100.0</td>\n",
       "      <td>L04AB02</td>\n",
       "      <td>292.0</td>\n",
       "      <td>1254615.96</td>\n",
       "      <td>1312.0</td>\n",
       "      <td>2013-12</td>\n",
       "      <td>False</td>\n",
       "      <td>True</td>\n",
       "      <td>False</td>\n",
       "      <td>False</td>\n",
       "      <td>False</td>\n",
       "      <td>False</td>\n",
       "      <td>False</td>\n",
       "      <td>True</td>\n",
       "      <td>False</td>\n",
       "      <td>False</td>\n",
       "      <td>False</td>\n",
       "    </tr>\n",
       "  </tbody>\n",
       "</table>\n",
       "<p>7282 rows × 21 columns</p>\n",
       "</div>"
      ],
      "text/plain": [
       "      Account Description ID                            Account Description  \\\n",
       "0                          0  4070 Sjællands Universitetshospital. Roskilde   \n",
       "1                          0  4070 Sjællands Universitetshospital. Roskilde   \n",
       "2                          0  4070 Sjællands Universitetshospital. Roskilde   \n",
       "3                          0  4070 Sjællands Universitetshospital. Roskilde   \n",
       "4                          0  4070 Sjællands Universitetshospital. Roskilde   \n",
       "...                      ...                                            ...   \n",
       "7277                    1010                  4398 Viborg Sygehus. apoteket   \n",
       "7278                    1010                  4398 Viborg Sygehus. apoteket   \n",
       "7279                    1010                  4398 Viborg Sygehus. apoteket   \n",
       "7280                    1010                  4398 Viborg Sygehus. apoteket   \n",
       "7281                    1010                  4398 Viborg Sygehus. apoteket   \n",
       "\n",
       "                  Size  Size Numeric  Strength (mg) WHO ATC 5 Code  Volume  \\\n",
       "0     1 htgl. a 100 mg         100.0          100.0        L04AB02   238.0   \n",
       "1     1 htgl. a 100 mg         100.0          100.0        L04AB02   206.0   \n",
       "2               2 stk.           2.0          200.0        L04AB05     8.0   \n",
       "3     1 htgl. a 100 mg         100.0          100.0        L04AB02   350.0   \n",
       "4               2 stk.           2.0          200.0        L04AB05    18.0   \n",
       "...                ...           ...            ...            ...     ...   \n",
       "7277           1 htgl.           1.0          100.0        L04AB02   472.0   \n",
       "7278            2 stk.           2.0          200.0        L04AB05    45.0   \n",
       "7279           1 htgl.           1.0          100.0        L04AB02   410.0   \n",
       "7280            2 stk.           2.0          200.0        L04AB05    52.0   \n",
       "7281           1 htgl.           1.0          100.0        L04AB02   292.0   \n",
       "\n",
       "           Value  Year Month (after 2000) Year Month (after 2000) in Datetime  \\\n",
       "0     1048818.40                   1001.0                             2010-01   \n",
       "1      907800.80                   1002.0                             2010-02   \n",
       "2       64668.40                   1003.0                             2010-03   \n",
       "3     1542380.00                   1003.0                             2010-03   \n",
       "4      145503.90                   1004.0                             2010-04   \n",
       "...          ...                      ...                                 ...   \n",
       "7277  2028009.36                   1310.0                             2013-10   \n",
       "7278   354665.70                   1311.0                             2013-11   \n",
       "7279  1761618.30                   1311.0                             2013-11   \n",
       "7280   409835.92                   1312.0                             2013-12   \n",
       "7281  1254615.96                   1312.0                             2013-12   \n",
       "\n",
       "      Region_Hovedstaden  Region_Midtjylland  Region_Nordjylland  \\\n",
       "0                  False               False               False   \n",
       "1                  False               False               False   \n",
       "2                  False               False               False   \n",
       "3                  False               False               False   \n",
       "4                  False               False               False   \n",
       "...                  ...                 ...                 ...   \n",
       "7277               False                True               False   \n",
       "7278               False                True               False   \n",
       "7279               False                True               False   \n",
       "7280               False                True               False   \n",
       "7281               False                True               False   \n",
       "\n",
       "      Region_Sjælland  Region_Syddanmark  Product_Cimzia  Product_Inflectra  \\\n",
       "0                True              False           False              False   \n",
       "1                True              False           False              False   \n",
       "2                True              False            True              False   \n",
       "3                True              False           False              False   \n",
       "4                True              False            True              False   \n",
       "...               ...                ...             ...                ...   \n",
       "7277            False              False           False              False   \n",
       "7278            False              False            True              False   \n",
       "7279            False              False           False              False   \n",
       "7280            False              False            True              False   \n",
       "7281            False              False           False              False   \n",
       "\n",
       "      Product_Remicade  Product_Remsima  Product_Stelara  Product_Zessly  \n",
       "0                 True            False            False           False  \n",
       "1                 True            False            False           False  \n",
       "2                False            False            False           False  \n",
       "3                 True            False            False           False  \n",
       "4                False            False            False           False  \n",
       "...                ...              ...              ...             ...  \n",
       "7277              True            False            False           False  \n",
       "7278             False            False            False           False  \n",
       "7279              True            False            False           False  \n",
       "7280             False            False            False           False  \n",
       "7281              True            False            False           False  \n",
       "\n",
       "[7282 rows x 21 columns]"
      ]
     },
     "execution_count": 71,
     "metadata": {},
     "output_type": "execute_result"
    }
   ],
   "source": [
    "# Convert all values in Account Description in pharmacy to a numbers and store in a new column 'Account Description Number'. \n",
    "# The numbers are ascending from 100 to the number of unique values in 'Account Description'\n",
    "pharmacyDf['Account Description ID'] = pd.factorize(pharmacyDf['Account Description'])[0] + 100\n",
    "pharmacyDf = pharmacyDf[['Account Description ID'] + [col for col in pharmacyDf.columns if col != 'Account Description ID']]\n",
    "\n",
    "# Convert all values in Account Description in hospital to a numbers and store in a new column 'Account Description Number'. \n",
    "# The numbers are ascending from 0 to the number of unique values in 'Account Description'\n",
    "hospitalDf['Account Description ID'] = pd.factorize(hospitalDf['Account Description'])[0]\n",
    "hospitalDf = hospitalDf[['Account Description ID'] + [col for col in hospitalDf.columns if col != 'Account Description ID']]\n",
    "\n",
    "# Convert all values in Account Description in sickhouses to a numbers and store in a new column 'Account Description Number'.\n",
    "# The numbers are ascending from 1000 to the number of unique values in 'Account Description'\n",
    "sickHouseDf['Account Description ID'] = pd.factorize(sickHouseDf['Account Description'])[0] + 1000\n",
    "sickHouseDf = sickHouseDf[['Account Description ID'] + [col for col in sickHouseDf.columns if col != 'Account Description ID']]\n",
    "\n",
    "# merge the three dataframes\n",
    "hospitalPharmacySickHouseDf = pd.concat([hospitalDf, pharmacyDf, sickHouseDf], ignore_index=True)\n",
    "\n",
    "# move the new column as the first column\n",
    "hospitalPharmacySickHouseDf = hospitalPharmacySickHouseDf[['Account Description ID'] + [col for col in hospitalPharmacySickHouseDf.columns if col != 'Account Description ID']]\n",
    "\n",
    "hospitalPharmacySickHouseDf"
   ]
  },
  {
   "cell_type": "markdown",
   "metadata": {},
   "source": [
    "#### Sort hospital and pharmacy datasets into values between 2010 and 2019 and only for Stelara"
   ]
  },
  {
   "cell_type": "code",
   "execution_count": 72,
   "metadata": {},
   "outputs": [
    {
     "name": "stdout",
     "output_type": "stream",
     "text": [
      "Stelara sales:\n",
      "Hospital total sales btw 2010 and 2019 for Stelara:  7600.0\n",
      "Pharmacy total sales btw 2010 and 2019 for Stelara:  22409.0\n",
      "Sickhouse total sales btw 2010 and 2019 for Stelara:  1427.0\n",
      "\n",
      "Cimzia sales:\n",
      "Hospital total sales btw 2010 and 2019 for Cimzia:  13481.0\n",
      "Pharmacy total sales btw 2010 and 2019 for Cimzia:  44861.0\n",
      "Sickhouse total sales btw 2010 and 2019 for Cimzia:  21722.0\n",
      "\n",
      "Inflectra sales:\n",
      "Hospital total sales btw 2010 and 2019 for Inflectra:  46652.0\n",
      "Pharmacy total sales btw 2010 and 2019 for Inflectra:  134359.0\n",
      "Sickhouse total sales btw 2010 and 2019 for Inflectra:  62736.0\n",
      "\n",
      "Remicade sales:\n",
      "Hospital total sales btw 2010 and 2019 for Remicade:  59393.0\n",
      "Pharmacy total sales btw 2010 and 2019 for Remicade:  220893.0\n",
      "Sickhouse total sales btw 2010 and 2019 for Remicade:  146456.0\n",
      "\n",
      "Remsima sales:\n",
      "Hospital total sales btw 2010 and 2019 for Remsima:  51072.0\n",
      "Pharmacy total sales btw 2010 and 2019 for Remsima:  161345.0\n",
      "Sickhouse total sales btw 2010 and 2019 for Remsima:  87244.0\n",
      "\n",
      "Zessly sales:\n",
      "Hospital total sales btw 2010 and 2019 for Zessly:  22290.0\n",
      "Pharmacy total sales btw 2010 and 2019 for Zessly:  65779.0\n",
      "Sickhouse total sales btw 2010 and 2019 for Zessly:  29195.0\n"
     ]
    }
   ],
   "source": [
    "hospitalDfYearSorted = hospitalDf[(hospitalDf['Year Month (after 2000)'] >= 1001) & (hospitalDf['Year Month (after 2000)'] <= 1912)]\n",
    "PharmacyDfYearSorted = pharmacyDf[(pharmacyDf['Year Month (after 2000)'] >= 1001) & (pharmacyDf['Year Month (after 2000)'] <= 1912)]\n",
    "sickHouseDfYearSorted = sickHouseDf[(sickHouseDf['Year Month (after 2000)'] >= 1001) & (sickHouseDf['Year Month (after 2000)'] <= 1912)]\n",
    "mergedHospitalPharmacySickHouseDfYearSorted = pd.concat([hospitalDfYearSorted, PharmacyDfYearSorted, sickHouseDfYearSorted], ignore_index=True)\n",
    "\n",
    "#Stelara\n",
    "hospitalDfYearAndStelaraSorted = hospitalDfYearSorted[hospitalDfYearSorted['Product_Stelara'] == True]\n",
    "PharmacyDfYearAndStelaraSorted = PharmacyDfYearSorted[PharmacyDfYearSorted['Product_Stelara'] == True]\n",
    "sickHouseDfYearAndStelaraSorted = sickHouseDfYearSorted[sickHouseDfYearSorted['Product_Stelara'] == True]\n",
    "mergedHospitalPharmacySickHouseDfYearAndStelaraSorted = pd.concat([hospitalDfYearAndStelaraSorted, PharmacyDfYearAndStelaraSorted, sickHouseDfYearAndStelaraSorted], ignore_index=True)\n",
    "\n",
    "print('Stelara sales:')\n",
    "print('Hospital total sales btw 2010 and 2019 for Stelara: ', sum(hospitalDfYearAndStelaraSorted['Volume']))\n",
    "print('Pharmacy total sales btw 2010 and 2019 for Stelara: ', sum(PharmacyDfYearAndStelaraSorted['Volume']))\n",
    "print('Sickhouse total sales btw 2010 and 2019 for Stelara: ', sum(sickHouseDfYearAndStelaraSorted['Volume']))\n",
    "print()\n",
    "\n",
    "#Cimzia\n",
    "hospitalDfYearAndCimziaSorted = hospitalDfYearSorted[hospitalDfYearSorted['Product_Cimzia'] == True]\n",
    "PharmacyDfYearAndCimziaSorted = PharmacyDfYearSorted[PharmacyDfYearSorted['Product_Cimzia'] == True]\n",
    "sickHouseDfYearAndCimziaSorted = sickHouseDfYearSorted[sickHouseDfYearSorted['Product_Cimzia'] == True]\n",
    "mergedHospitalPharmacySickHouseDfYearAndCimziaSorted = pd.concat([hospitalDfYearAndCimziaSorted, PharmacyDfYearAndCimziaSorted, sickHouseDfYearAndCimziaSorted], ignore_index=True)\n",
    "\n",
    "print('Cimzia sales:')\n",
    "print('Hospital total sales btw 2010 and 2019 for Cimzia: ', sum(hospitalDfYearAndCimziaSorted['Volume']))\n",
    "print('Pharmacy total sales btw 2010 and 2019 for Cimzia: ', sum(PharmacyDfYearAndCimziaSorted['Volume']))\n",
    "print('Sickhouse total sales btw 2010 and 2019 for Cimzia: ', sum(sickHouseDfYearAndCimziaSorted['Volume']))\n",
    "print()\n",
    "\n",
    "#Inflectra\n",
    "hospitalDfYearAndInflectraSorted = hospitalDfYearSorted[hospitalDfYearSorted['Product_Inflectra'] == True]\n",
    "PharmacyDfYearAndInflectraSorted = PharmacyDfYearSorted[PharmacyDfYearSorted['Product_Inflectra'] == True]\n",
    "sickHouseDfYearAndInflectraSorted = sickHouseDfYearSorted[sickHouseDfYearSorted['Product_Inflectra'] == True]\n",
    "mergedHospitalPharmacySickHouseDfYearAndInflectraSorted = pd.concat([hospitalDfYearAndInflectraSorted, PharmacyDfYearAndInflectraSorted, sickHouseDfYearAndInflectraSorted], ignore_index=True)\n",
    "\n",
    "print('Inflectra sales:')\n",
    "print('Hospital total sales btw 2010 and 2019 for Inflectra: ', sum(hospitalDfYearAndInflectraSorted['Volume']))\n",
    "print('Pharmacy total sales btw 2010 and 2019 for Inflectra: ', sum(PharmacyDfYearAndInflectraSorted['Volume']))\n",
    "print('Sickhouse total sales btw 2010 and 2019 for Inflectra: ', sum(sickHouseDfYearAndInflectraSorted['Volume']))\n",
    "print()\n",
    "\n",
    "#Remicade\n",
    "hospitalDfYearAndRemicadeSorted = hospitalDfYearSorted[hospitalDfYearSorted['Product_Remicade'] == True]\n",
    "PharmacyDfYearAndRemicadeSorted = PharmacyDfYearSorted[PharmacyDfYearSorted['Product_Remicade'] == True]\n",
    "sickHouseDfYearAndRemicadeSorted = sickHouseDfYearSorted[sickHouseDfYearSorted['Product_Remicade'] == True]\n",
    "mergedHospitalPharmacySickHouseDfYearAndRemicadeSorted = pd.concat([hospitalDfYearAndRemicadeSorted, PharmacyDfYearAndRemicadeSorted, sickHouseDfYearAndRemicadeSorted], ignore_index=True)\n",
    "\n",
    "print('Remicade sales:')\n",
    "print('Hospital total sales btw 2010 and 2019 for Remicade: ', sum(hospitalDfYearAndRemicadeSorted['Volume']))\n",
    "print('Pharmacy total sales btw 2010 and 2019 for Remicade: ', sum(PharmacyDfYearAndRemicadeSorted['Volume']))\n",
    "print('Sickhouse total sales btw 2010 and 2019 for Remicade: ', sum(sickHouseDfYearAndRemicadeSorted['Volume']))\n",
    "print()\n",
    "\n",
    "#Remsima\n",
    "hospitalDfYearAndRemsimaSorted = hospitalDfYearSorted[hospitalDfYearSorted['Product_Remsima'] == True]\n",
    "PharmacyDfYearAndRemsimaSorted = PharmacyDfYearSorted[PharmacyDfYearSorted['Product_Remsima'] == True]\n",
    "sickHouseDfYearAndRemsimaSorted = sickHouseDfYearSorted[sickHouseDfYearSorted['Product_Remsima'] == True]\n",
    "mergedHospitalPharmacySickHouseDfYearAndRemsimaSorted = pd.concat([hospitalDfYearAndRemsimaSorted, PharmacyDfYearAndRemsimaSorted, sickHouseDfYearAndRemsimaSorted], ignore_index=True)\n",
    "\n",
    "print('Remsima sales:')\n",
    "print('Hospital total sales btw 2010 and 2019 for Remsima: ', sum(hospitalDfYearAndRemsimaSorted['Volume']))\n",
    "print('Pharmacy total sales btw 2010 and 2019 for Remsima: ', sum(PharmacyDfYearAndRemsimaSorted['Volume']))\n",
    "print('Sickhouse total sales btw 2010 and 2019 for Remsima: ', sum(sickHouseDfYearAndRemsimaSorted['Volume']))\n",
    "print()\n",
    "\n",
    "#Zessly\n",
    "hospitalDfYearAndZesslySorted = hospitalDfYearSorted[hospitalDfYearSorted['Product_Zessly'] == True]\n",
    "PharmacyDfYearAndZesslySorted = PharmacyDfYearSorted[PharmacyDfYearSorted['Product_Zessly'] == True]\n",
    "sickHouseDfYearAndZesslySorted = sickHouseDfYearSorted[sickHouseDfYearSorted['Product_Zessly'] == True]\n",
    "mergedHospitalPharmacySickHouseDfYearAndZesslySorted = pd.concat([hospitalDfYearAndZesslySorted, PharmacyDfYearAndZesslySorted, sickHouseDfYearAndZesslySorted], ignore_index=True)\n",
    "\n",
    "print('Zessly sales:')\n",
    "print('Hospital total sales btw 2010 and 2019 for Zessly: ', sum(hospitalDfYearAndZesslySorted['Volume']))\n",
    "print('Pharmacy total sales btw 2010 and 2019 for Zessly: ', sum(PharmacyDfYearAndZesslySorted['Volume']))\n",
    "print('Sickhouse total sales btw 2010 and 2019 for Zessly: ', sum(sickHouseDfYearAndZesslySorted['Volume']))"
   ]
  },
  {
   "cell_type": "markdown",
   "metadata": {},
   "source": [
    "#### sort data into ATC5 code L04AC05"
   ]
  },
  {
   "cell_type": "code",
   "execution_count": 73,
   "metadata": {},
   "outputs": [],
   "source": [
    "DfYearAndL04AC05SortedZessly = mergedHospitalPharmacySickHouseDfYearAndZesslySorted\n",
    "DfYearAndL04AC05SortedRemsima = mergedHospitalPharmacySickHouseDfYearAndRemsimaSorted\n",
    "DfYearAndL04AC05SortedRemicade = mergedHospitalPharmacySickHouseDfYearAndRemicadeSorted\n",
    "DfYearAndL04AC05SortedInflectra = mergedHospitalPharmacySickHouseDfYearAndInflectraSorted\n",
    "\n",
    "mergedDfYearAndL04AC05Sorted = pd.concat([DfYearAndL04AC05SortedZessly, DfYearAndL04AC05SortedRemsima, DfYearAndL04AC05SortedRemicade, DfYearAndL04AC05SortedInflectra], ignore_index=True)"
   ]
  },
  {
   "cell_type": "markdown",
   "metadata": {},
   "source": [
    "#### Add type column to mergedHospitalPharmacySickHouseDfYearSorted"
   ]
  },
  {
   "cell_type": "code",
   "execution_count": 74,
   "metadata": {},
   "outputs": [
    {
     "name": "stderr",
     "output_type": "stream",
     "text": [
      "C:\\Users\\Josef\\AppData\\Local\\Temp\\ipykernel_20560\\2425842289.py:1: SettingWithCopyWarning: \n",
      "A value is trying to be set on a copy of a slice from a DataFrame.\n",
      "Try using .loc[row_indexer,col_indexer] = value instead\n",
      "\n",
      "See the caveats in the documentation: https://pandas.pydata.org/pandas-docs/stable/user_guide/indexing.html#returning-a-view-versus-a-copy\n",
      "  hospitalDfYearSorted['Type'] = 'Hospital'\n",
      "C:\\Users\\Josef\\AppData\\Local\\Temp\\ipykernel_20560\\2425842289.py:2: SettingWithCopyWarning: \n",
      "A value is trying to be set on a copy of a slice from a DataFrame.\n",
      "Try using .loc[row_indexer,col_indexer] = value instead\n",
      "\n",
      "See the caveats in the documentation: https://pandas.pydata.org/pandas-docs/stable/user_guide/indexing.html#returning-a-view-versus-a-copy\n",
      "  sickHouseDfYearSorted['Type'] = 'Sickhouse'\n",
      "C:\\Users\\Josef\\AppData\\Local\\Temp\\ipykernel_20560\\2425842289.py:3: SettingWithCopyWarning: \n",
      "A value is trying to be set on a copy of a slice from a DataFrame.\n",
      "Try using .loc[row_indexer,col_indexer] = value instead\n",
      "\n",
      "See the caveats in the documentation: https://pandas.pydata.org/pandas-docs/stable/user_guide/indexing.html#returning-a-view-versus-a-copy\n",
      "  PharmacyDfYearSorted['Type'] = 'Pharmacy'\n"
     ]
    }
   ],
   "source": [
    "hospitalDfYearSorted['Type'] = 'Hospital'\n",
    "sickHouseDfYearSorted['Type'] = 'Sickhouse'\n",
    "PharmacyDfYearSorted['Type'] = 'Pharmacy'\n",
    "mergedHospitalPharmacySickHouseDfYearAndSortedWithTypes = pd.concat([hospitalDfYearSorted, sickHouseDfYearSorted, PharmacyDfYearSorted], ignore_index=True)\n",
    "\n",
    "# Add the 'Type' column to the 2nd column\n",
    "cols = mergedHospitalPharmacySickHouseDfYearAndSortedWithTypes.columns.tolist()\n",
    "cols = cols[:1] + cols[-1:] + cols[1:-1]\n",
    "mergedHospitalPharmacySickHouseDfYearAndSortedWithTypes = mergedHospitalPharmacySickHouseDfYearAndSortedWithTypes[cols]"
   ]
  },
  {
   "cell_type": "markdown",
   "metadata": {},
   "source": [
    "#### Convert all string and boolean values to numericals"
   ]
  },
  {
   "cell_type": "code",
   "execution_count": 75,
   "metadata": {},
   "outputs": [],
   "source": [
    "# convert all unique values in 'Type' to numbers\n",
    "mergedHospitalPharmacySickHouseDfYearAndSortedWithTypes['Type'] = pd.factorize(mergedHospitalPharmacySickHouseDfYearAndSortedWithTypes['Type'])[0]\n",
    "\n",
    "# convert all unique values in 'WHO ATC 5 Code' to numbers\n",
    "mergedHospitalPharmacySickHouseDfYearAndSortedWithTypes['WHO ATC 5 Code'] = pd.factorize(mergedHospitalPharmacySickHouseDfYearAndSortedWithTypes['WHO ATC 5 Code'])[0]\n",
    "\n",
    "# convert all true false values to 1 and 0\n",
    "mergedHospitalPharmacySickHouseDfYearAndSortedWithTypes['Region_Hovedstaden'] = mergedHospitalPharmacySickHouseDfYearAndSortedWithTypes['Region_Hovedstaden'].astype(int)\n",
    "mergedHospitalPharmacySickHouseDfYearAndSortedWithTypes['Region_Midtjylland'] = mergedHospitalPharmacySickHouseDfYearAndSortedWithTypes['Region_Midtjylland'].astype(int)\n",
    "mergedHospitalPharmacySickHouseDfYearAndSortedWithTypes['Region_Nordjylland'] = mergedHospitalPharmacySickHouseDfYearAndSortedWithTypes['Region_Nordjylland'].astype(int)\n",
    "mergedHospitalPharmacySickHouseDfYearAndSortedWithTypes['Region_Sjælland'] = mergedHospitalPharmacySickHouseDfYearAndSortedWithTypes['Region_Sjælland'].astype(int)\n",
    "mergedHospitalPharmacySickHouseDfYearAndSortedWithTypes['Region_Syddanmark'] = mergedHospitalPharmacySickHouseDfYearAndSortedWithTypes['Region_Syddanmark'].astype(int)\n",
    "mergedHospitalPharmacySickHouseDfYearAndSortedWithTypes['Product_Cimzia'] = mergedHospitalPharmacySickHouseDfYearAndSortedWithTypes['Product_Cimzia'].astype(int)\n",
    "mergedHospitalPharmacySickHouseDfYearAndSortedWithTypes['Product_Inflectra'] = mergedHospitalPharmacySickHouseDfYearAndSortedWithTypes['Product_Inflectra'].astype(int)\n",
    "mergedHospitalPharmacySickHouseDfYearAndSortedWithTypes['Product_Remicade'] = mergedHospitalPharmacySickHouseDfYearAndSortedWithTypes['Product_Remicade'].astype(int)\n",
    "mergedHospitalPharmacySickHouseDfYearAndSortedWithTypes['Product_Remsima'] = mergedHospitalPharmacySickHouseDfYearAndSortedWithTypes['Product_Remsima'].astype(int)\n",
    "mergedHospitalPharmacySickHouseDfYearAndSortedWithTypes['Product_Stelara'] = mergedHospitalPharmacySickHouseDfYearAndSortedWithTypes['Product_Stelara'].astype(int)\n",
    "mergedHospitalPharmacySickHouseDfYearAndSortedWithTypes['Product_Zessly'] = mergedHospitalPharmacySickHouseDfYearAndSortedWithTypes['Product_Zessly'].astype(int)"
   ]
  },
  {
   "cell_type": "markdown",
   "metadata": {},
   "source": [
    "#### Define a dataset with data only from Central Apoteket (main pharmacy next to central station)"
   ]
  },
  {
   "cell_type": "code",
   "execution_count": 76,
   "metadata": {},
   "outputs": [],
   "source": [
    "centralPharmacy = PharmacyDfYearAndStelaraSorted[PharmacyDfYearAndStelaraSorted['Account Description'].str.contains('CentralApoteket', case=False)]"
   ]
  },
  {
   "cell_type": "markdown",
   "metadata": {},
   "source": [
    "#### Draw stacked column chart of total sales of Stelara in hospitals and pharmacies btw 2010 and 2019"
   ]
  },
  {
   "cell_type": "code",
   "execution_count": 77,
   "metadata": {},
   "outputs": [
    {
     "name": "stderr",
     "output_type": "stream",
     "text": [
      "C:\\Users\\Josef\\AppData\\Local\\Temp\\ipykernel_20560\\3394619443.py:1: SettingWithCopyWarning: \n",
      "A value is trying to be set on a copy of a slice from a DataFrame.\n",
      "Try using .loc[row_indexer,col_indexer] = value instead\n",
      "\n",
      "See the caveats in the documentation: https://pandas.pydata.org/pandas-docs/stable/user_guide/indexing.html#returning-a-view-versus-a-copy\n",
      "  hospitalDfYearAndStelaraSorted['Type'] = 'Hospitals'\n",
      "C:\\Users\\Josef\\AppData\\Local\\Temp\\ipykernel_20560\\3394619443.py:2: SettingWithCopyWarning: \n",
      "A value is trying to be set on a copy of a slice from a DataFrame.\n",
      "Try using .loc[row_indexer,col_indexer] = value instead\n",
      "\n",
      "See the caveats in the documentation: https://pandas.pydata.org/pandas-docs/stable/user_guide/indexing.html#returning-a-view-versus-a-copy\n",
      "  sickHouseDfYearAndStelaraSorted['Type'] = 'Sickhouses'\n",
      "C:\\Users\\Josef\\AppData\\Local\\Temp\\ipykernel_20560\\3394619443.py:3: SettingWithCopyWarning: \n",
      "A value is trying to be set on a copy of a slice from a DataFrame.\n",
      "Try using .loc[row_indexer,col_indexer] = value instead\n",
      "\n",
      "See the caveats in the documentation: https://pandas.pydata.org/pandas-docs/stable/user_guide/indexing.html#returning-a-view-versus-a-copy\n",
      "  PharmacyDfYearAndStelaraSorted['Type'] = 'Pharmacies'\n"
     ]
    }
   ],
   "source": [
    "hospitalDfYearAndStelaraSorted['Type'] = 'Hospitals'\n",
    "sickHouseDfYearAndStelaraSorted['Type'] = 'Sickhouses'\n",
    "PharmacyDfYearAndStelaraSorted['Type'] = 'Pharmacies'\n",
    "mergedHospitalPharmacySickHouseDfYearAndStelaraSortedWithTypes = pd.concat([hospitalDfYearAndStelaraSorted, PharmacyDfYearAndStelaraSorted, sickHouseDfYearAndStelaraSorted], ignore_index=True)\n",
    "\n",
    "# Pivot the data\n",
    "pivot_df_stelara = mergedHospitalPharmacySickHouseDfYearAndStelaraSortedWithTypes.pivot_table(index='Year Month (after 2000) in Datetime', columns='Type', values='Volume', aggfunc='sum').fillna(0)"
   ]
  },
  {
   "cell_type": "markdown",
   "metadata": {},
   "source": [
    "#### Draw stacked column chart of total sales of Cimzia in hospitals and pharmacies btw 2010 and 2019"
   ]
  },
  {
   "cell_type": "code",
   "execution_count": 78,
   "metadata": {},
   "outputs": [
    {
     "name": "stderr",
     "output_type": "stream",
     "text": [
      "C:\\Users\\Josef\\AppData\\Local\\Temp\\ipykernel_20560\\3104877781.py:1: SettingWithCopyWarning: \n",
      "A value is trying to be set on a copy of a slice from a DataFrame.\n",
      "Try using .loc[row_indexer,col_indexer] = value instead\n",
      "\n",
      "See the caveats in the documentation: https://pandas.pydata.org/pandas-docs/stable/user_guide/indexing.html#returning-a-view-versus-a-copy\n",
      "  hospitalDfYearAndCimziaSorted['Type'] = 'Hospitals'\n",
      "C:\\Users\\Josef\\AppData\\Local\\Temp\\ipykernel_20560\\3104877781.py:2: SettingWithCopyWarning: \n",
      "A value is trying to be set on a copy of a slice from a DataFrame.\n",
      "Try using .loc[row_indexer,col_indexer] = value instead\n",
      "\n",
      "See the caveats in the documentation: https://pandas.pydata.org/pandas-docs/stable/user_guide/indexing.html#returning-a-view-versus-a-copy\n",
      "  sickHouseDfYearAndCimziaSorted['Type'] = 'Sickhouses'\n",
      "C:\\Users\\Josef\\AppData\\Local\\Temp\\ipykernel_20560\\3104877781.py:3: SettingWithCopyWarning: \n",
      "A value is trying to be set on a copy of a slice from a DataFrame.\n",
      "Try using .loc[row_indexer,col_indexer] = value instead\n",
      "\n",
      "See the caveats in the documentation: https://pandas.pydata.org/pandas-docs/stable/user_guide/indexing.html#returning-a-view-versus-a-copy\n",
      "  PharmacyDfYearAndCimziaSorted['Type'] = 'Pharmacies'\n"
     ]
    }
   ],
   "source": [
    "hospitalDfYearAndCimziaSorted['Type'] = 'Hospitals'\n",
    "sickHouseDfYearAndCimziaSorted['Type'] = 'Sickhouses'\n",
    "PharmacyDfYearAndCimziaSorted['Type'] = 'Pharmacies'\n",
    "mergedHospitalPharmacySickHousesDfYearAndCimziaSortedWithTypes = pd.concat([hospitalDfYearAndCimziaSorted, PharmacyDfYearAndCimziaSorted, sickHouseDfYearAndCimziaSorted], ignore_index=True)\n",
    "\n",
    "# Pivot the data\n",
    "pivot_df_cimzia = mergedHospitalPharmacySickHousesDfYearAndCimziaSortedWithTypes.pivot_table(index='Year Month (after 2000)', columns='Type', values='Volume', aggfunc='sum').fillna(0)"
   ]
  },
  {
   "cell_type": "markdown",
   "metadata": {},
   "source": [
    "#### Draw stacked column chart of total sales of Inflectra in hospitals and pharmacies btw 2010 and 2019"
   ]
  },
  {
   "cell_type": "code",
   "execution_count": 79,
   "metadata": {},
   "outputs": [
    {
     "name": "stderr",
     "output_type": "stream",
     "text": [
      "C:\\Users\\Josef\\AppData\\Local\\Temp\\ipykernel_20560\\4202801142.py:1: SettingWithCopyWarning: \n",
      "A value is trying to be set on a copy of a slice from a DataFrame.\n",
      "Try using .loc[row_indexer,col_indexer] = value instead\n",
      "\n",
      "See the caveats in the documentation: https://pandas.pydata.org/pandas-docs/stable/user_guide/indexing.html#returning-a-view-versus-a-copy\n",
      "  hospitalDfYearAndInflectraSorted['Type'] = 'Hospitals'\n",
      "C:\\Users\\Josef\\AppData\\Local\\Temp\\ipykernel_20560\\4202801142.py:2: SettingWithCopyWarning: \n",
      "A value is trying to be set on a copy of a slice from a DataFrame.\n",
      "Try using .loc[row_indexer,col_indexer] = value instead\n",
      "\n",
      "See the caveats in the documentation: https://pandas.pydata.org/pandas-docs/stable/user_guide/indexing.html#returning-a-view-versus-a-copy\n",
      "  sickHouseDfYearAndInflectraSorted['Type'] = 'Sickhouses'\n",
      "C:\\Users\\Josef\\AppData\\Local\\Temp\\ipykernel_20560\\4202801142.py:3: SettingWithCopyWarning: \n",
      "A value is trying to be set on a copy of a slice from a DataFrame.\n",
      "Try using .loc[row_indexer,col_indexer] = value instead\n",
      "\n",
      "See the caveats in the documentation: https://pandas.pydata.org/pandas-docs/stable/user_guide/indexing.html#returning-a-view-versus-a-copy\n",
      "  PharmacyDfYearAndInflectraSorted['Type'] = 'Pharmacies'\n"
     ]
    }
   ],
   "source": [
    "hospitalDfYearAndInflectraSorted['Type'] = 'Hospitals'\n",
    "sickHouseDfYearAndInflectraSorted['Type'] = 'Sickhouses'\n",
    "PharmacyDfYearAndInflectraSorted['Type'] = 'Pharmacies'\n",
    "mergedHospitalPharmacySickHouseDfYearAndInflectraSortedWithTypes = pd.concat([hospitalDfYearAndInflectraSorted, PharmacyDfYearAndInflectraSorted, sickHouseDfYearAndInflectraSorted], ignore_index=True)\n",
    "\n",
    "# Pivot the data\n",
    "pivot_df_inflectra = mergedHospitalPharmacySickHouseDfYearAndInflectraSortedWithTypes.pivot_table(index='Year Month (after 2000)', columns='Type', values='Volume', aggfunc='sum').fillna(0)"
   ]
  },
  {
   "cell_type": "markdown",
   "metadata": {},
   "source": [
    "#### Draw stacked column chart of total sales of Remicade in hospitals and pharmacies btw 2010 and 2019"
   ]
  },
  {
   "cell_type": "code",
   "execution_count": 80,
   "metadata": {},
   "outputs": [
    {
     "name": "stderr",
     "output_type": "stream",
     "text": [
      "C:\\Users\\Josef\\AppData\\Local\\Temp\\ipykernel_20560\\4050052802.py:1: SettingWithCopyWarning: \n",
      "A value is trying to be set on a copy of a slice from a DataFrame.\n",
      "Try using .loc[row_indexer,col_indexer] = value instead\n",
      "\n",
      "See the caveats in the documentation: https://pandas.pydata.org/pandas-docs/stable/user_guide/indexing.html#returning-a-view-versus-a-copy\n",
      "  hospitalDfYearAndRemicadeSorted['Type'] = 'Hospitals'\n",
      "C:\\Users\\Josef\\AppData\\Local\\Temp\\ipykernel_20560\\4050052802.py:2: SettingWithCopyWarning: \n",
      "A value is trying to be set on a copy of a slice from a DataFrame.\n",
      "Try using .loc[row_indexer,col_indexer] = value instead\n",
      "\n",
      "See the caveats in the documentation: https://pandas.pydata.org/pandas-docs/stable/user_guide/indexing.html#returning-a-view-versus-a-copy\n",
      "  sickHouseDfYearAndRemicadeSorted['Type'] = 'Sickhouses'\n",
      "C:\\Users\\Josef\\AppData\\Local\\Temp\\ipykernel_20560\\4050052802.py:3: SettingWithCopyWarning: \n",
      "A value is trying to be set on a copy of a slice from a DataFrame.\n",
      "Try using .loc[row_indexer,col_indexer] = value instead\n",
      "\n",
      "See the caveats in the documentation: https://pandas.pydata.org/pandas-docs/stable/user_guide/indexing.html#returning-a-view-versus-a-copy\n",
      "  PharmacyDfYearAndRemicadeSorted['Type'] = 'Pharmacies'\n"
     ]
    }
   ],
   "source": [
    "hospitalDfYearAndRemicadeSorted['Type'] = 'Hospitals'\n",
    "sickHouseDfYearAndRemicadeSorted['Type'] = 'Sickhouses'\n",
    "PharmacyDfYearAndRemicadeSorted['Type'] = 'Pharmacies'\n",
    "mergedHospitalPharmacySickHouseDfYearAndRemicadeSortedWithTypes = pd.concat([hospitalDfYearAndRemicadeSorted, PharmacyDfYearAndRemicadeSorted, sickHouseDfYearAndRemicadeSorted], ignore_index=True)\n",
    "\n",
    "# Pivot the data\n",
    "pivot_df_remicade = mergedHospitalPharmacySickHouseDfYearAndRemicadeSortedWithTypes.pivot_table(index='Year Month (after 2000)', columns='Type', values='Volume', aggfunc='sum').fillna(0)"
   ]
  },
  {
   "cell_type": "markdown",
   "metadata": {},
   "source": [
    "#### Draw stacked column chart of total sales of Remsima in hospitals and pharmacies btw 2010 and 2019"
   ]
  },
  {
   "cell_type": "code",
   "execution_count": 81,
   "metadata": {},
   "outputs": [
    {
     "name": "stderr",
     "output_type": "stream",
     "text": [
      "C:\\Users\\Josef\\AppData\\Local\\Temp\\ipykernel_20560\\2381237731.py:1: SettingWithCopyWarning: \n",
      "A value is trying to be set on a copy of a slice from a DataFrame.\n",
      "Try using .loc[row_indexer,col_indexer] = value instead\n",
      "\n",
      "See the caveats in the documentation: https://pandas.pydata.org/pandas-docs/stable/user_guide/indexing.html#returning-a-view-versus-a-copy\n",
      "  hospitalDfYearAndRemsimaSorted['Type'] = 'Hospitals'\n",
      "C:\\Users\\Josef\\AppData\\Local\\Temp\\ipykernel_20560\\2381237731.py:2: SettingWithCopyWarning: \n",
      "A value is trying to be set on a copy of a slice from a DataFrame.\n",
      "Try using .loc[row_indexer,col_indexer] = value instead\n",
      "\n",
      "See the caveats in the documentation: https://pandas.pydata.org/pandas-docs/stable/user_guide/indexing.html#returning-a-view-versus-a-copy\n",
      "  sickHouseDfYearAndRemsimaSorted['Type'] = 'Sickhouses'\n",
      "C:\\Users\\Josef\\AppData\\Local\\Temp\\ipykernel_20560\\2381237731.py:3: SettingWithCopyWarning: \n",
      "A value is trying to be set on a copy of a slice from a DataFrame.\n",
      "Try using .loc[row_indexer,col_indexer] = value instead\n",
      "\n",
      "See the caveats in the documentation: https://pandas.pydata.org/pandas-docs/stable/user_guide/indexing.html#returning-a-view-versus-a-copy\n",
      "  PharmacyDfYearAndRemsimaSorted['Type'] = 'Pharmacies'\n"
     ]
    }
   ],
   "source": [
    "hospitalDfYearAndRemsimaSorted['Type'] = 'Hospitals'\n",
    "sickHouseDfYearAndRemsimaSorted['Type'] = 'Sickhouses'\n",
    "PharmacyDfYearAndRemsimaSorted['Type'] = 'Pharmacies'\n",
    "mergedHospitalPharmacySickHouseDfYearAndRemsimaSortedWithTypes = pd.concat([hospitalDfYearAndRemsimaSorted, PharmacyDfYearAndRemsimaSorted, sickHouseDfYearAndRemsimaSorted], ignore_index=True)\n",
    "\n",
    "# Pivot the data\n",
    "pivot_df_remsima = mergedHospitalPharmacySickHouseDfYearAndRemsimaSortedWithTypes.pivot_table(index='Year Month (after 2000)', columns='Type', values='Volume', aggfunc='sum').fillna(0)"
   ]
  },
  {
   "cell_type": "markdown",
   "metadata": {},
   "source": [
    "#### Draw stacked column chart of total sales of Zessly in hospitals and pharmacies btw 2010 and 2019"
   ]
  },
  {
   "cell_type": "code",
   "execution_count": 82,
   "metadata": {},
   "outputs": [
    {
     "name": "stderr",
     "output_type": "stream",
     "text": [
      "C:\\Users\\Josef\\AppData\\Local\\Temp\\ipykernel_20560\\741565467.py:1: SettingWithCopyWarning: \n",
      "A value is trying to be set on a copy of a slice from a DataFrame.\n",
      "Try using .loc[row_indexer,col_indexer] = value instead\n",
      "\n",
      "See the caveats in the documentation: https://pandas.pydata.org/pandas-docs/stable/user_guide/indexing.html#returning-a-view-versus-a-copy\n",
      "  hospitalDfYearAndZesslySorted['Type'] = 'Hospitals'\n",
      "C:\\Users\\Josef\\AppData\\Local\\Temp\\ipykernel_20560\\741565467.py:2: SettingWithCopyWarning: \n",
      "A value is trying to be set on a copy of a slice from a DataFrame.\n",
      "Try using .loc[row_indexer,col_indexer] = value instead\n",
      "\n",
      "See the caveats in the documentation: https://pandas.pydata.org/pandas-docs/stable/user_guide/indexing.html#returning-a-view-versus-a-copy\n",
      "  sickHouseDfYearAndZesslySorted['Type'] = 'Sickhouses'\n",
      "C:\\Users\\Josef\\AppData\\Local\\Temp\\ipykernel_20560\\741565467.py:3: SettingWithCopyWarning: \n",
      "A value is trying to be set on a copy of a slice from a DataFrame.\n",
      "Try using .loc[row_indexer,col_indexer] = value instead\n",
      "\n",
      "See the caveats in the documentation: https://pandas.pydata.org/pandas-docs/stable/user_guide/indexing.html#returning-a-view-versus-a-copy\n",
      "  PharmacyDfYearAndZesslySorted['Type'] = 'Pharmacies'\n"
     ]
    }
   ],
   "source": [
    "hospitalDfYearAndZesslySorted['Type'] = 'Hospitals'\n",
    "sickHouseDfYearAndZesslySorted['Type'] = 'Sickhouses'\n",
    "PharmacyDfYearAndZesslySorted['Type'] = 'Pharmacies'\n",
    "mergedHospitalPharmacySickHouseDfYearAndZesslySortedWithTypes = pd.concat([hospitalDfYearAndZesslySorted, PharmacyDfYearAndZesslySorted, sickHouseDfYearAndZesslySorted], ignore_index=True)\n",
    "\n",
    "# Pivot the data\n",
    "pivot_df_zessly = mergedHospitalPharmacySickHouseDfYearAndZesslySortedWithTypes.pivot_table(index='Year Month (after 2000)', columns='Type', values='Volume', aggfunc='sum').fillna(0)"
   ]
  },
  {
   "cell_type": "markdown",
   "metadata": {},
   "source": [
    "#### Draw stacked column chart of total sales of L04AC05 in hospitals and pharmacies btw 2010 and 2019"
   ]
  },
  {
   "cell_type": "code",
   "execution_count": 83,
   "metadata": {},
   "outputs": [],
   "source": [
    "DfYearAndL04AC05SortedZessly['Type'] = 'Zessly'\n",
    "DfYearAndL04AC05SortedRemsima['Type'] = 'Remsima'\n",
    "DfYearAndL04AC05SortedRemicade['Type'] = 'Remicade'\n",
    "DfYearAndL04AC05SortedInflectra['Type'] = 'Inflectra'\n",
    "DfYearAndL04AC05SortedWithTypes = pd.concat([DfYearAndL04AC05SortedZessly, DfYearAndL04AC05SortedInflectra, DfYearAndL04AC05SortedRemsima, DfYearAndL04AC05SortedRemicade], ignore_index=True)"
   ]
  },
  {
   "cell_type": "markdown",
   "metadata": {},
   "source": [
    "#### Draw scatter, line, bubble, or combo plot to show relationship between sold stelara over time between 2010 and 2019 in central pharmacy"
   ]
  },
  {
   "cell_type": "code",
   "execution_count": 84,
   "metadata": {},
   "outputs": [
    {
     "name": "stdout",
     "output_type": "stream",
     "text": [
      "    Year Month (after 2000) in Datetime  Volume\n",
      "0                               2010-05    12.0\n",
      "1                               2010-06    22.0\n",
      "2                               2010-07    16.0\n",
      "3                               2010-08    12.0\n",
      "4                               2010-09    24.0\n",
      "..                                  ...     ...\n",
      "110                             2019-08    90.0\n",
      "111                             2019-09    51.0\n",
      "112                             2019-10    64.0\n",
      "113                             2019-11    78.0\n",
      "114                             2019-12   113.0\n",
      "\n",
      "[115 rows x 2 columns]\n"
     ]
    }
   ],
   "source": [
    "# Group the data by 'Year Month (after 2000)' and calculate the median of 'Value'\n",
    "meanValaues = centralPharmacy.groupby('Year Month (after 2000) in Datetime')['Volume'].mean().round().reset_index()\n",
    "\n",
    "# convert 'Year Month (after 2000)' and median_values to int\n",
    "print(meanValaues)"
   ]
  },
  {
   "cell_type": "markdown",
   "metadata": {},
   "source": [
    "#### Show correlation between Volume and other feeatures"
   ]
  },
  {
   "cell_type": "code",
   "execution_count": 85,
   "metadata": {},
   "outputs": [
    {
     "name": "stdout",
     "output_type": "stream",
     "text": [
      "18\n"
     ]
    }
   ],
   "source": [
    "m = hospitalPharmacySickHouseDf.drop('Account Description', axis=1)\n",
    "m2 = m.drop('Size', axis=1)\n",
    "m2 = m2.drop('Year Month (after 2000) in Datetime', axis=1)\n",
    "\n",
    "atcs = m2['WHO ATC 5 Code'].unique()\n",
    "\n",
    "# Convert each unique value in 'WHO ATC 5 Code' to an int between 0 and 2\n",
    "m2['WHO ATC 5 Code'] = m2['WHO ATC 5 Code'].apply(lambda x: np.where(atcs == x)[0][0])\n",
    "\n",
    "# Also convert all true false values to 1 and 0 in these columns: Region_Hovedstaden\tRegion_Midtjylland\tRegion_Nordjylland\tRegion_Sjælland\tRegion_Syddanmark\tProduct_Cimzia\tProduct_Inflectra\tProduct_Remicade\tProduct_Remsima\tProduct_Stelara\tProduct_Zessly\n",
    "m2['Region_Hovedstaden'] = m2['Region_Hovedstaden'].astype(int)\n",
    "m2['Region_Midtjylland'] = m2['Region_Midtjylland'].astype(int)\n",
    "m2['Region_Nordjylland'] = m2['Region_Nordjylland'].astype(int)\n",
    "m2['Region_Sjælland'] = m2['Region_Sjælland'].astype(int)\n",
    "m2['Region_Syddanmark'] = m2['Region_Syddanmark'].astype(int)\n",
    "m2['Product_Cimzia'] = m2['Product_Cimzia'].astype(int)\n",
    "m2['Product_Inflectra'] = m2['Product_Inflectra'].astype(int)\n",
    "m2['Product_Remicade'] = m2['Product_Remicade'].astype(int)\n",
    "m2['Product_Remsima'] = m2['Product_Remsima'].astype(int)\n",
    "m2['Product_Stelara'] = m2['Product_Stelara'].astype(int)\n",
    "m2['Product_Zessly'] = m2['Product_Zessly'].astype(int)\n",
    "\n",
    "m2\n",
    "\n",
    "print(len(m2.columns))"
   ]
  }
 ],
 "metadata": {
  "kernelspec": {
   "display_name": "Python 3",
   "language": "python",
   "name": "python3"
  },
  "language_info": {
   "codemirror_mode": {
    "name": "ipython",
    "version": 3
   },
   "file_extension": ".py",
   "mimetype": "text/x-python",
   "name": "python",
   "nbconvert_exporter": "python",
   "pygments_lexer": "ipython3",
   "version": "3.12.5"
  }
 },
 "nbformat": 4,
 "nbformat_minor": 2
}
